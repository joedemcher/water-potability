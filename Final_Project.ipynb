{
  "nbformat": 4,
  "nbformat_minor": 0,
  "metadata": {
    "colab": {
      "name": "Final_Project.ipynb",
      "provenance": [],
      "toc_visible": true,
      "mount_file_id": "1tLevOfVEmyR65P-ZxJD8yOeabFJR0Ra8",
      "authorship_tag": "ABX9TyO42SHnDZBlRXuam8IFIwF6"
    },
    "kernelspec": {
      "name": "python3",
      "display_name": "Python 3"
    },
    "language_info": {
      "name": "python"
    }
  },
  "cells": [
    {
      "cell_type": "markdown",
      "metadata": {
        "id": "rnWX-lvyqEhu"
      },
      "source": [
        "# Context\n",
        "---"
      ]
    },
    {
      "cell_type": "markdown",
      "metadata": {
        "id": "K7jao_8VqmeB"
      },
      "source": [
        "## Data Definitions\n",
        "---"
      ]
    },
    {
      "cell_type": "markdown",
      "metadata": {
        "id": "e14iJ_TMGiV7"
      },
      "source": [
        "The water_potability.csv file contains water quality metrics for 3276 different bodies of water.\n",
        "\n",
        "1. __pH value__\n",
        " * pH is an important parameter in evaluating the acid–base balance of water. It is also the indicator of acidic or alkaline condition of water status. The World Health Organization (WHO) recommends a pH of 6.5 to 8.5.\n",
        "\n",
        "2. __Hardness__\n",
        "  * Hardness is mainly caused by calcium and magnesium salts. These salts are dissolved from geologic deposits through which water travels. The length of time water is in contact with hardness producing material helps determine how much hardness there is in raw water.\n",
        "\n",
        "3. __Solids__\n",
        "  * Water has the ability to dissolve a wide range of inorganic and some organic minerals or salts such as potassium, calcium, sodium, bicarbonates, chlorides, magnesium, sulfates etc. These minerals produce unwanted taste and diluted color in appearance of water. A desirable limit for total dissolved solids is 500 milligrams per liter (mg/L) and maximum limit is 1000mg/L which prescribed for drinking purpose.\n",
        "\n",
        "4. __Chloramines__\n",
        "  * Chlorine and chloramine are the major disinfectants used in public water systems. Chloramines are most commonly formed when ammonia is added to chlorine to treat drinking water. Chlorine levels up to 4mg/L or 4 parts per million (ppm) are considered safe in drinking water.\n",
        "\n",
        "5. __Sulfate__\n",
        "  * Sulfates are naturally occurring substances that are found in minerals, soil, and rocks. Sulfate concentration in seawater is about 2,700mg/L. It ranges from 3 to 30mg/L in most freshwater supplies, although much higher concentrations (1000mg/L) are found in some geographic locations.\n",
        "\n",
        "6. __Conductivity__\n",
        "  * Pure water is not a good conductor of electric current. The amount of dissolved solids in water determines the electrical conductivity (EC) which measures the ionic process of a solution that enables it to transmit current. According to WHO standards, the EC value of water should not exceeded 400μS/cm.\n",
        "\n",
        "7. __Organic_carbon__\n",
        "  * Total organic carbon (TOC) in source waters comes from decaying natural organic matter as well as synthetic sources. TOC is a measure of the total amount of carbon in organic compounds in pure water. According to the U.S. Environmental Protection Agency (EPA) there should be less than 2mg/L of TOC in treated/drinking water.\n",
        "\n",
        "8. __Trihalomethanes__\n",
        "  * Trihalomethanes (THM) are chemicals which may be found in water treated with chlorine. The concentration of THM in drinking water varies according to the level of organic material in the water, the amount of chlorine required to treat the water, and the temperature of the water that is being treated. THM levels up to 80ppm is considered safe in drinking water.\n",
        "\n",
        "9. __Turbidity__\n",
        "  * The turbidity of water depends on the quantity of solid matter present in a suspended state. It is a measure of light emitting properties of water and the test is used to indicate the quality of waste discharge with respect to colloidal matter.\n",
        "\n",
        "10. __Potability__\n",
        "  * Water's potability indicates if the water is safe for human consumption. [1]\n",
        "\n",
        "\n",
        "[1]: https://www.kaggle.com/adityakadiwal/water-potability"
      ]
    },
    {
      "cell_type": "markdown",
      "metadata": {
        "id": "2CF4Y7GUPsGj"
      },
      "source": [
        "---"
      ]
    },
    {
      "cell_type": "markdown",
      "metadata": {
        "id": "5p8a6hcHQ0vc"
      },
      "source": [
        "# Preprocessing"
      ]
    },
    {
      "cell_type": "code",
      "metadata": {
        "id": "9X8IV4PwrAZG"
      },
      "source": [
        "# Imports\n",
        "import graphviz\n",
        "import pandas as pd\n",
        "import numpy as np\n",
        "import seaborn as sns\n",
        "import matplotlib.pyplot as plt\n",
        "\n",
        "from sklearn.model_selection import train_test_split\n",
        "from sklearn.preprocessing import StandardScaler\n",
        "from sklearn.neighbors import KNeighborsClassifier\n",
        "from sklearn.metrics import accuracy_score\n",
        "from sklearn import metrics\n",
        "from sklearn import tree \n"
      ],
      "execution_count": 57,
      "outputs": []
    },
    {
      "cell_type": "code",
      "metadata": {
        "id": "LOCc9TDhrE3S"
      },
      "source": [
        "plt.figure(figsize=(10,10))\n",
        "df = pd.read_csv(\"/content/drive/MyDrive/Fall 2021/CS 634/Project/water_potability.csv\")"
      ],
      "execution_count": 20,
      "outputs": []
    },
    {
      "cell_type": "code",
      "metadata": {
        "id": "e-4veGEXi2GR"
      },
      "source": [
        "df.columns = df.columns.str.lower()"
      ],
      "execution_count": 21,
      "outputs": []
    },
    {
      "cell_type": "code",
      "metadata": {
        "colab": {
          "base_uri": "https://localhost:8080/",
          "height": 206
        },
        "id": "yAZNJowIPiqt",
        "outputId": "ab6c5c52-6361-4c0b-a9bc-d0eea8313bee"
      },
      "source": [
        "df.head()"
      ],
      "execution_count": 22,
      "outputs": [
        {
          "output_type": "execute_result",
          "data": {
            "text/html": [
              "<div>\n",
              "<style scoped>\n",
              "    .dataframe tbody tr th:only-of-type {\n",
              "        vertical-align: middle;\n",
              "    }\n",
              "\n",
              "    .dataframe tbody tr th {\n",
              "        vertical-align: top;\n",
              "    }\n",
              "\n",
              "    .dataframe thead th {\n",
              "        text-align: right;\n",
              "    }\n",
              "</style>\n",
              "<table border=\"1\" class=\"dataframe\">\n",
              "  <thead>\n",
              "    <tr style=\"text-align: right;\">\n",
              "      <th></th>\n",
              "      <th>ph</th>\n",
              "      <th>hardness</th>\n",
              "      <th>solids</th>\n",
              "      <th>chloramines</th>\n",
              "      <th>sulfate</th>\n",
              "      <th>conductivity</th>\n",
              "      <th>organic_carbon</th>\n",
              "      <th>trihalomethanes</th>\n",
              "      <th>turbidity</th>\n",
              "      <th>potability</th>\n",
              "    </tr>\n",
              "  </thead>\n",
              "  <tbody>\n",
              "    <tr>\n",
              "      <th>0</th>\n",
              "      <td>NaN</td>\n",
              "      <td>204.890455</td>\n",
              "      <td>20791.318981</td>\n",
              "      <td>7.300212</td>\n",
              "      <td>368.516441</td>\n",
              "      <td>564.308654</td>\n",
              "      <td>10.379783</td>\n",
              "      <td>86.990970</td>\n",
              "      <td>2.963135</td>\n",
              "      <td>0</td>\n",
              "    </tr>\n",
              "    <tr>\n",
              "      <th>1</th>\n",
              "      <td>3.716080</td>\n",
              "      <td>129.422921</td>\n",
              "      <td>18630.057858</td>\n",
              "      <td>6.635246</td>\n",
              "      <td>NaN</td>\n",
              "      <td>592.885359</td>\n",
              "      <td>15.180013</td>\n",
              "      <td>56.329076</td>\n",
              "      <td>4.500656</td>\n",
              "      <td>0</td>\n",
              "    </tr>\n",
              "    <tr>\n",
              "      <th>2</th>\n",
              "      <td>8.099124</td>\n",
              "      <td>224.236259</td>\n",
              "      <td>19909.541732</td>\n",
              "      <td>9.275884</td>\n",
              "      <td>NaN</td>\n",
              "      <td>418.606213</td>\n",
              "      <td>16.868637</td>\n",
              "      <td>66.420093</td>\n",
              "      <td>3.055934</td>\n",
              "      <td>0</td>\n",
              "    </tr>\n",
              "    <tr>\n",
              "      <th>3</th>\n",
              "      <td>8.316766</td>\n",
              "      <td>214.373394</td>\n",
              "      <td>22018.417441</td>\n",
              "      <td>8.059332</td>\n",
              "      <td>356.886136</td>\n",
              "      <td>363.266516</td>\n",
              "      <td>18.436524</td>\n",
              "      <td>100.341674</td>\n",
              "      <td>4.628771</td>\n",
              "      <td>0</td>\n",
              "    </tr>\n",
              "    <tr>\n",
              "      <th>4</th>\n",
              "      <td>9.092223</td>\n",
              "      <td>181.101509</td>\n",
              "      <td>17978.986339</td>\n",
              "      <td>6.546600</td>\n",
              "      <td>310.135738</td>\n",
              "      <td>398.410813</td>\n",
              "      <td>11.558279</td>\n",
              "      <td>31.997993</td>\n",
              "      <td>4.075075</td>\n",
              "      <td>0</td>\n",
              "    </tr>\n",
              "  </tbody>\n",
              "</table>\n",
              "</div>"
            ],
            "text/plain": [
              "         ph    hardness        solids  ...  trihalomethanes  turbidity  potability\n",
              "0       NaN  204.890455  20791.318981  ...        86.990970   2.963135           0\n",
              "1  3.716080  129.422921  18630.057858  ...        56.329076   4.500656           0\n",
              "2  8.099124  224.236259  19909.541732  ...        66.420093   3.055934           0\n",
              "3  8.316766  214.373394  22018.417441  ...       100.341674   4.628771           0\n",
              "4  9.092223  181.101509  17978.986339  ...        31.997993   4.075075           0\n",
              "\n",
              "[5 rows x 10 columns]"
            ]
          },
          "metadata": {},
          "execution_count": 22
        }
      ]
    },
    {
      "cell_type": "code",
      "metadata": {
        "colab": {
          "base_uri": "https://localhost:8080/",
          "height": 296
        },
        "id": "RmwJqVL5kOFL",
        "outputId": "08ccd20a-2e78-4f6d-95d7-b8c88a43a1e1"
      },
      "source": [
        "sns.histplot(df.ph,kde = True)"
      ],
      "execution_count": 23,
      "outputs": [
        {
          "output_type": "execute_result",
          "data": {
            "text/plain": [
              "<matplotlib.axes._subplots.AxesSubplot at 0x7fb93ca86c50>"
            ]
          },
          "metadata": {},
          "execution_count": 23
        },
        {
          "output_type": "display_data",
          "data": {
            "image/png": "[encoded data removed]",
            "text/plain": [
              "<Figure size 432x288 with 1 Axes>"
            ]
          },
          "metadata": {
            "needs_background": "light"
          }
        }
      ]
    },
    {
      "cell_type": "code",
      "metadata": {
        "colab": {
          "base_uri": "https://localhost:8080/",
          "height": 296
        },
        "id": "wcZIzKHj6ouH",
        "outputId": "1169904f-8576-4fce-81c2-030555279860"
      },
      "source": [
        "sns.histplot(df.hardness,kde = True)"
      ],
      "execution_count": 24,
      "outputs": [
        {
          "output_type": "execute_result",
          "data": {
            "text/plain": [
              "<matplotlib.axes._subplots.AxesSubplot at 0x7fb93d327f90>"
            ]
          },
          "metadata": {},
          "execution_count": 24
        },
        {
          "output_type": "display_data",
          "data": {
            "image/png": "[encoded data removed]",
            "text/plain": [
              "<Figure size 432x288 with 1 Axes>"
            ]
          },
          "metadata": {
            "needs_background": "light"
          }
        }
      ]
    },
    {
      "cell_type": "code",
      "metadata": {
        "colab": {
          "base_uri": "https://localhost:8080/",
          "height": 296
        },
        "id": "ymNrZmhn6rog",
        "outputId": "7076ff05-e5d4-4c80-cc66-d5226d0828cf"
      },
      "source": [
        "sns.histplot(df.solids,kde = True)"
      ],
      "execution_count": 25,
      "outputs": [
        {
          "output_type": "execute_result",
          "data": {
            "text/plain": [
              "<matplotlib.axes._subplots.AxesSubplot at 0x7fb93cd409d0>"
            ]
          },
          "metadata": {},
          "execution_count": 25
        },
        {
          "output_type": "display_data",
          "data": {
            "image/png": "[encoded data removed]",
            "text/plain": [
              "<Figure size 432x288 with 1 Axes>"
            ]
          },
          "metadata": {
            "needs_background": "light"
          }
        }
      ]
    },
    {
      "cell_type": "code",
      "metadata": {
        "colab": {
          "base_uri": "https://localhost:8080/",
          "height": 296
        },
        "id": "K9TZ3ZBZ6z5E",
        "outputId": "cab0c72a-4311-4d48-aae8-c5e91e645eb2"
      },
      "source": [
        "sns.histplot(df.chloramines,kde = True)"
      ],
      "execution_count": 26,
      "outputs": [
        {
          "output_type": "execute_result",
          "data": {
            "text/plain": [
              "<matplotlib.axes._subplots.AxesSubplot at 0x7fb93c7bd4d0>"
            ]
          },
          "metadata": {},
          "execution_count": 26
        },
        {
          "output_type": "display_data",
          "data": {
            "image/png": "[encoded data removed]",
            "text/plain": [
              "<Figure size 432x288 with 1 Axes>"
            ]
          },
          "metadata": {
            "needs_background": "light"
          }
        }
      ]
    },
    {
      "cell_type": "code",
      "metadata": {
        "colab": {
          "base_uri": "https://localhost:8080/",
          "height": 296
        },
        "id": "722bmrr060ku",
        "outputId": "52ac9520-faf8-4d1f-eeb9-fe4053acace2"
      },
      "source": [
        "sns.histplot(df.sulfate,kde = True)"
      ],
      "execution_count": 27,
      "outputs": [
        {
          "output_type": "execute_result",
          "data": {
            "text/plain": [
              "<matplotlib.axes._subplots.AxesSubplot at 0x7fb93c7e65d0>"
            ]
          },
          "metadata": {},
          "execution_count": 27
        },
        {
          "output_type": "display_data",
          "data": {
            "image/png": "[encoded data removed]",
            "text/plain": [
              "<Figure size 432x288 with 1 Axes>"
            ]
          },
          "metadata": {
            "needs_background": "light"
          }
        }
      ]
    },
    {
      "cell_type": "code",
      "metadata": {
        "colab": {
          "base_uri": "https://localhost:8080/",
          "height": 300
        },
        "id": "sY0T-yyE6013",
        "outputId": "939453dc-9ec0-48d0-ab41-68fa966eddc0"
      },
      "source": [
        "sns.histplot(df.conductivity,kde = True)"
      ],
      "execution_count": 28,
      "outputs": [
        {
          "output_type": "execute_result",
          "data": {
            "text/plain": [
              "<matplotlib.axes._subplots.AxesSubplot at 0x7fb93c611590>"
            ]
          },
          "metadata": {},
          "execution_count": 28
        },
        {
          "output_type": "display_data",
          "data": {
            "image/png": "[encoded data removed]",
            "text/plain": [
              "<Figure size 432x288 with 1 Axes>"
            ]
          },
          "metadata": {
            "needs_background": "light"
          }
        }
      ]
    },
    {
      "cell_type": "code",
      "metadata": {
        "colab": {
          "base_uri": "https://localhost:8080/",
          "height": 297
        },
        "id": "uuHXr8ze61B7",
        "outputId": "ec59baaf-eb9a-48e0-e057-a668bf29e287"
      },
      "source": [
        "sns.histplot(df.organic_carbon,kde = True)"
      ],
      "execution_count": 29,
      "outputs": [
        {
          "output_type": "execute_result",
          "data": {
            "text/plain": [
              "<matplotlib.axes._subplots.AxesSubplot at 0x7fb93c5b4b90>"
            ]
          },
          "metadata": {},
          "execution_count": 29
        },
        {
          "output_type": "display_data",
          "data": {
            "image/png": "[encoded data removed]",
            "text/plain": [
              "<Figure size 432x288 with 1 Axes>"
            ]
          },
          "metadata": {
            "needs_background": "light"
          }
        }
      ]
    },
    {
      "cell_type": "code",
      "metadata": {
        "colab": {
          "base_uri": "https://localhost:8080/",
          "height": 296
        },
        "id": "twgYYHRh61Ma",
        "outputId": "4cccdd65-3959-44ed-904d-c1e4ec78386e"
      },
      "source": [
        "sns.histplot(df.trihalomethanes,kde = True)"
      ],
      "execution_count": 30,
      "outputs": [
        {
          "output_type": "execute_result",
          "data": {
            "text/plain": [
              "<matplotlib.axes._subplots.AxesSubplot at 0x7fb93c510450>"
            ]
          },
          "metadata": {},
          "execution_count": 30
        },
        {
          "output_type": "display_data",
          "data": {
            "image/png": "[encoded data removed]",
            "text/plain": [
              "<Figure size 432x288 with 1 Axes>"
            ]
          },
          "metadata": {
            "needs_background": "light"
          }
        }
      ]
    },
    {
      "cell_type": "code",
      "metadata": {
        "colab": {
          "base_uri": "https://localhost:8080/",
          "height": 296
        },
        "id": "p05pvyLs7Heh",
        "outputId": "59539e8e-00cf-4ba2-ca78-42ce94a3cca8"
      },
      "source": [
        "sns.histplot(df.turbidity,kde = True)"
      ],
      "execution_count": 31,
      "outputs": [
        {
          "output_type": "execute_result",
          "data": {
            "text/plain": [
              "<matplotlib.axes._subplots.AxesSubplot at 0x7fb93c465e90>"
            ]
          },
          "metadata": {},
          "execution_count": 31
        },
        {
          "output_type": "display_data",
          "data": {
            "image/png": "[encoded data removed]",
            "text/plain": [
              "<Figure size 432x288 with 1 Axes>"
            ]
          },
          "metadata": {
            "needs_background": "light"
          }
        }
      ]
    },
    {
      "cell_type": "code",
      "metadata": {
        "colab": {
          "base_uri": "https://localhost:8080/",
          "height": 363
        },
        "id": "c2scN3A1RJmu",
        "outputId": "7351ff20-7084-475b-ab3b-17bebd3320ae"
      },
      "source": [
        "df.describe().T"
      ],
      "execution_count": 32,
      "outputs": [
        {
          "output_type": "execute_result",
          "data": {
            "text/html": [
              "<div>\n",
              "<style scoped>\n",
              "    .dataframe tbody tr th:only-of-type {\n",
              "        vertical-align: middle;\n",
              "    }\n",
              "\n",
              "    .dataframe tbody tr th {\n",
              "        vertical-align: top;\n",
              "    }\n",
              "\n",
              "    .dataframe thead th {\n",
              "        text-align: right;\n",
              "    }\n",
              "</style>\n",
              "<table border=\"1\" class=\"dataframe\">\n",
              "  <thead>\n",
              "    <tr style=\"text-align: right;\">\n",
              "      <th></th>\n",
              "      <th>count</th>\n",
              "      <th>mean</th>\n",
              "      <th>std</th>\n",
              "      <th>min</th>\n",
              "      <th>25%</th>\n",
              "      <th>50%</th>\n",
              "      <th>75%</th>\n",
              "      <th>max</th>\n",
              "    </tr>\n",
              "  </thead>\n",
              "  <tbody>\n",
              "    <tr>\n",
              "      <th>ph</th>\n",
              "      <td>2785.0</td>\n",
              "      <td>7.080795</td>\n",
              "      <td>1.594320</td>\n",
              "      <td>0.000000</td>\n",
              "      <td>6.093092</td>\n",
              "      <td>7.036752</td>\n",
              "      <td>8.062066</td>\n",
              "      <td>14.000000</td>\n",
              "    </tr>\n",
              "    <tr>\n",
              "      <th>hardness</th>\n",
              "      <td>3276.0</td>\n",
              "      <td>196.369496</td>\n",
              "      <td>32.879761</td>\n",
              "      <td>47.432000</td>\n",
              "      <td>176.850538</td>\n",
              "      <td>196.967627</td>\n",
              "      <td>216.667456</td>\n",
              "      <td>323.124000</td>\n",
              "    </tr>\n",
              "    <tr>\n",
              "      <th>solids</th>\n",
              "      <td>3276.0</td>\n",
              "      <td>22014.092526</td>\n",
              "      <td>8768.570828</td>\n",
              "      <td>320.942611</td>\n",
              "      <td>15666.690297</td>\n",
              "      <td>20927.833607</td>\n",
              "      <td>27332.762127</td>\n",
              "      <td>61227.196008</td>\n",
              "    </tr>\n",
              "    <tr>\n",
              "      <th>chloramines</th>\n",
              "      <td>3276.0</td>\n",
              "      <td>7.122277</td>\n",
              "      <td>1.583085</td>\n",
              "      <td>0.352000</td>\n",
              "      <td>6.127421</td>\n",
              "      <td>7.130299</td>\n",
              "      <td>8.114887</td>\n",
              "      <td>13.127000</td>\n",
              "    </tr>\n",
              "    <tr>\n",
              "      <th>sulfate</th>\n",
              "      <td>2495.0</td>\n",
              "      <td>333.775777</td>\n",
              "      <td>41.416840</td>\n",
              "      <td>129.000000</td>\n",
              "      <td>307.699498</td>\n",
              "      <td>333.073546</td>\n",
              "      <td>359.950170</td>\n",
              "      <td>481.030642</td>\n",
              "    </tr>\n",
              "    <tr>\n",
              "      <th>conductivity</th>\n",
              "      <td>3276.0</td>\n",
              "      <td>426.205111</td>\n",
              "      <td>80.824064</td>\n",
              "      <td>181.483754</td>\n",
              "      <td>365.734414</td>\n",
              "      <td>421.884968</td>\n",
              "      <td>481.792304</td>\n",
              "      <td>753.342620</td>\n",
              "    </tr>\n",
              "    <tr>\n",
              "      <th>organic_carbon</th>\n",
              "      <td>3276.0</td>\n",
              "      <td>14.284970</td>\n",
              "      <td>3.308162</td>\n",
              "      <td>2.200000</td>\n",
              "      <td>12.065801</td>\n",
              "      <td>14.218338</td>\n",
              "      <td>16.557652</td>\n",
              "      <td>28.300000</td>\n",
              "    </tr>\n",
              "    <tr>\n",
              "      <th>trihalomethanes</th>\n",
              "      <td>3114.0</td>\n",
              "      <td>66.396293</td>\n",
              "      <td>16.175008</td>\n",
              "      <td>0.738000</td>\n",
              "      <td>55.844536</td>\n",
              "      <td>66.622485</td>\n",
              "      <td>77.337473</td>\n",
              "      <td>124.000000</td>\n",
              "    </tr>\n",
              "    <tr>\n",
              "      <th>turbidity</th>\n",
              "      <td>3276.0</td>\n",
              "      <td>3.966786</td>\n",
              "      <td>0.780382</td>\n",
              "      <td>1.450000</td>\n",
              "      <td>3.439711</td>\n",
              "      <td>3.955028</td>\n",
              "      <td>4.500320</td>\n",
              "      <td>6.739000</td>\n",
              "    </tr>\n",
              "    <tr>\n",
              "      <th>potability</th>\n",
              "      <td>3276.0</td>\n",
              "      <td>0.390110</td>\n",
              "      <td>0.487849</td>\n",
              "      <td>0.000000</td>\n",
              "      <td>0.000000</td>\n",
              "      <td>0.000000</td>\n",
              "      <td>1.000000</td>\n",
              "      <td>1.000000</td>\n",
              "    </tr>\n",
              "  </tbody>\n",
              "</table>\n",
              "</div>"
            ],
            "text/plain": [
              "                  count          mean  ...           75%           max\n",
              "ph               2785.0      7.080795  ...      8.062066     14.000000\n",
              "hardness         3276.0    196.369496  ...    216.667456    323.124000\n",
              "solids           3276.0  22014.092526  ...  27332.762127  61227.196008\n",
              "chloramines      3276.0      7.122277  ...      8.114887     13.127000\n",
              "sulfate          2495.0    333.775777  ...    359.950170    481.030642\n",
              "conductivity     3276.0    426.205111  ...    481.792304    753.342620\n",
              "organic_carbon   3276.0     14.284970  ...     16.557652     28.300000\n",
              "trihalomethanes  3114.0     66.396293  ...     77.337473    124.000000\n",
              "turbidity        3276.0      3.966786  ...      4.500320      6.739000\n",
              "potability       3276.0      0.390110  ...      1.000000      1.000000\n",
              "\n",
              "[10 rows x 8 columns]"
            ]
          },
          "metadata": {},
          "execution_count": 32
        }
      ]
    },
    {
      "cell_type": "code",
      "metadata": {
        "colab": {
          "base_uri": "https://localhost:8080/"
        },
        "id": "lV7p_VqsQy2f",
        "outputId": "c08cf2d3-a256-4bbf-9c2f-0c215a3421fe"
      },
      "source": [
        "df.isnull().sum()"
      ],
      "execution_count": 33,
      "outputs": [
        {
          "output_type": "execute_result",
          "data": {
            "text/plain": [
              "ph                 491\n",
              "hardness             0\n",
              "solids               0\n",
              "chloramines          0\n",
              "sulfate            781\n",
              "conductivity         0\n",
              "organic_carbon       0\n",
              "trihalomethanes    162\n",
              "turbidity            0\n",
              "potability           0\n",
              "dtype: int64"
            ]
          },
          "metadata": {},
          "execution_count": 33
        }
      ]
    },
    {
      "cell_type": "code",
      "metadata": {
        "colab": {
          "base_uri": "https://localhost:8080/",
          "height": 424
        },
        "id": "cXGeg4BlRIb7",
        "outputId": "f83b66fc-d1fd-42f4-b788-7baf49bd0b87"
      },
      "source": [
        "df[df['ph'].isnull()]"
      ],
      "execution_count": 34,
      "outputs": [
        {
          "output_type": "execute_result",
          "data": {
            "text/html": [
              "<div>\n",
              "<style scoped>\n",
              "    .dataframe tbody tr th:only-of-type {\n",
              "        vertical-align: middle;\n",
              "    }\n",
              "\n",
              "    .dataframe tbody tr th {\n",
              "        vertical-align: top;\n",
              "    }\n",
              "\n",
              "    .dataframe thead th {\n",
              "        text-align: right;\n",
              "    }\n",
              "</style>\n",
              "<table border=\"1\" class=\"dataframe\">\n",
              "  <thead>\n",
              "    <tr style=\"text-align: right;\">\n",
              "      <th></th>\n",
              "      <th>ph</th>\n",
              "      <th>hardness</th>\n",
              "      <th>solids</th>\n",
              "      <th>chloramines</th>\n",
              "      <th>sulfate</th>\n",
              "      <th>conductivity</th>\n",
              "      <th>organic_carbon</th>\n",
              "      <th>trihalomethanes</th>\n",
              "      <th>turbidity</th>\n",
              "      <th>potability</th>\n",
              "    </tr>\n",
              "  </thead>\n",
              "  <tbody>\n",
              "    <tr>\n",
              "      <th>0</th>\n",
              "      <td>NaN</td>\n",
              "      <td>204.890455</td>\n",
              "      <td>20791.318981</td>\n",
              "      <td>7.300212</td>\n",
              "      <td>368.516441</td>\n",
              "      <td>564.308654</td>\n",
              "      <td>10.379783</td>\n",
              "      <td>86.990970</td>\n",
              "      <td>2.963135</td>\n",
              "      <td>0</td>\n",
              "    </tr>\n",
              "    <tr>\n",
              "      <th>8</th>\n",
              "      <td>NaN</td>\n",
              "      <td>118.988579</td>\n",
              "      <td>14285.583854</td>\n",
              "      <td>7.804174</td>\n",
              "      <td>268.646941</td>\n",
              "      <td>389.375566</td>\n",
              "      <td>12.706049</td>\n",
              "      <td>53.928846</td>\n",
              "      <td>3.595017</td>\n",
              "      <td>0</td>\n",
              "    </tr>\n",
              "    <tr>\n",
              "      <th>13</th>\n",
              "      <td>NaN</td>\n",
              "      <td>150.174923</td>\n",
              "      <td>27331.361962</td>\n",
              "      <td>6.838223</td>\n",
              "      <td>299.415781</td>\n",
              "      <td>379.761835</td>\n",
              "      <td>19.370807</td>\n",
              "      <td>76.509996</td>\n",
              "      <td>4.413974</td>\n",
              "      <td>0</td>\n",
              "    </tr>\n",
              "    <tr>\n",
              "      <th>20</th>\n",
              "      <td>NaN</td>\n",
              "      <td>227.435048</td>\n",
              "      <td>22305.567414</td>\n",
              "      <td>10.333918</td>\n",
              "      <td>NaN</td>\n",
              "      <td>554.820086</td>\n",
              "      <td>16.331693</td>\n",
              "      <td>45.382815</td>\n",
              "      <td>4.133423</td>\n",
              "      <td>0</td>\n",
              "    </tr>\n",
              "    <tr>\n",
              "      <th>22</th>\n",
              "      <td>NaN</td>\n",
              "      <td>215.977859</td>\n",
              "      <td>17107.224226</td>\n",
              "      <td>5.607060</td>\n",
              "      <td>326.943978</td>\n",
              "      <td>436.256194</td>\n",
              "      <td>14.189062</td>\n",
              "      <td>59.855476</td>\n",
              "      <td>5.459251</td>\n",
              "      <td>0</td>\n",
              "    </tr>\n",
              "    <tr>\n",
              "      <th>...</th>\n",
              "      <td>...</td>\n",
              "      <td>...</td>\n",
              "      <td>...</td>\n",
              "      <td>...</td>\n",
              "      <td>...</td>\n",
              "      <td>...</td>\n",
              "      <td>...</td>\n",
              "      <td>...</td>\n",
              "      <td>...</td>\n",
              "      <td>...</td>\n",
              "    </tr>\n",
              "    <tr>\n",
              "      <th>3224</th>\n",
              "      <td>NaN</td>\n",
              "      <td>198.218700</td>\n",
              "      <td>31081.735264</td>\n",
              "      <td>7.419106</td>\n",
              "      <td>NaN</td>\n",
              "      <td>517.925946</td>\n",
              "      <td>11.711419</td>\n",
              "      <td>85.428785</td>\n",
              "      <td>3.345543</td>\n",
              "      <td>1</td>\n",
              "    </tr>\n",
              "    <tr>\n",
              "      <th>3229</th>\n",
              "      <td>NaN</td>\n",
              "      <td>203.204659</td>\n",
              "      <td>10643.186771</td>\n",
              "      <td>6.828936</td>\n",
              "      <td>NaN</td>\n",
              "      <td>384.597711</td>\n",
              "      <td>16.011328</td>\n",
              "      <td>72.911573</td>\n",
              "      <td>3.065910</td>\n",
              "      <td>1</td>\n",
              "    </tr>\n",
              "    <tr>\n",
              "      <th>3231</th>\n",
              "      <td>NaN</td>\n",
              "      <td>225.754109</td>\n",
              "      <td>28194.452646</td>\n",
              "      <td>5.892830</td>\n",
              "      <td>366.201583</td>\n",
              "      <td>418.272901</td>\n",
              "      <td>17.306832</td>\n",
              "      <td>103.912548</td>\n",
              "      <td>3.855895</td>\n",
              "      <td>1</td>\n",
              "    </tr>\n",
              "    <tr>\n",
              "      <th>3245</th>\n",
              "      <td>NaN</td>\n",
              "      <td>188.536608</td>\n",
              "      <td>24711.414927</td>\n",
              "      <td>7.129520</td>\n",
              "      <td>NaN</td>\n",
              "      <td>555.548534</td>\n",
              "      <td>16.959269</td>\n",
              "      <td>56.038702</td>\n",
              "      <td>4.331691</td>\n",
              "      <td>1</td>\n",
              "    </tr>\n",
              "    <tr>\n",
              "      <th>3260</th>\n",
              "      <td>NaN</td>\n",
              "      <td>134.736856</td>\n",
              "      <td>9000.025591</td>\n",
              "      <td>9.026293</td>\n",
              "      <td>NaN</td>\n",
              "      <td>428.213987</td>\n",
              "      <td>8.668672</td>\n",
              "      <td>74.773392</td>\n",
              "      <td>3.699558</td>\n",
              "      <td>1</td>\n",
              "    </tr>\n",
              "  </tbody>\n",
              "</table>\n",
              "<p>491 rows × 10 columns</p>\n",
              "</div>"
            ],
            "text/plain": [
              "      ph    hardness        solids  ...  trihalomethanes  turbidity  potability\n",
              "0    NaN  204.890455  20791.318981  ...        86.990970   2.963135           0\n",
              "8    NaN  118.988579  14285.583854  ...        53.928846   3.595017           0\n",
              "13   NaN  150.174923  27331.361962  ...        76.509996   4.413974           0\n",
              "20   NaN  227.435048  22305.567414  ...        45.382815   4.133423           0\n",
              "22   NaN  215.977859  17107.224226  ...        59.855476   5.459251           0\n",
              "...   ..         ...           ...  ...              ...        ...         ...\n",
              "3224 NaN  198.218700  31081.735264  ...        85.428785   3.345543           1\n",
              "3229 NaN  203.204659  10643.186771  ...        72.911573   3.065910           1\n",
              "3231 NaN  225.754109  28194.452646  ...       103.912548   3.855895           1\n",
              "3245 NaN  188.536608  24711.414927  ...        56.038702   4.331691           1\n",
              "3260 NaN  134.736856   9000.025591  ...        74.773392   3.699558           1\n",
              "\n",
              "[491 rows x 10 columns]"
            ]
          },
          "metadata": {},
          "execution_count": 34
        }
      ]
    },
    {
      "cell_type": "code",
      "metadata": {
        "colab": {
          "base_uri": "https://localhost:8080/",
          "height": 424
        },
        "id": "kagKO0hr9sO4",
        "outputId": "83bc599b-054f-4ff3-9cdd-663caa25c33f"
      },
      "source": [
        "df[df['sulfate'].isnull()]"
      ],
      "execution_count": 35,
      "outputs": [
        {
          "output_type": "execute_result",
          "data": {
            "text/html": [
              "<div>\n",
              "<style scoped>\n",
              "    .dataframe tbody tr th:only-of-type {\n",
              "        vertical-align: middle;\n",
              "    }\n",
              "\n",
              "    .dataframe tbody tr th {\n",
              "        vertical-align: top;\n",
              "    }\n",
              "\n",
              "    .dataframe thead th {\n",
              "        text-align: right;\n",
              "    }\n",
              "</style>\n",
              "<table border=\"1\" class=\"dataframe\">\n",
              "  <thead>\n",
              "    <tr style=\"text-align: right;\">\n",
              "      <th></th>\n",
              "      <th>ph</th>\n",
              "      <th>hardness</th>\n",
              "      <th>solids</th>\n",
              "      <th>chloramines</th>\n",
              "      <th>sulfate</th>\n",
              "      <th>conductivity</th>\n",
              "      <th>organic_carbon</th>\n",
              "      <th>trihalomethanes</th>\n",
              "      <th>turbidity</th>\n",
              "      <th>potability</th>\n",
              "    </tr>\n",
              "  </thead>\n",
              "  <tbody>\n",
              "    <tr>\n",
              "      <th>1</th>\n",
              "      <td>3.716080</td>\n",
              "      <td>129.422921</td>\n",
              "      <td>18630.057858</td>\n",
              "      <td>6.635246</td>\n",
              "      <td>NaN</td>\n",
              "      <td>592.885359</td>\n",
              "      <td>15.180013</td>\n",
              "      <td>56.329076</td>\n",
              "      <td>4.500656</td>\n",
              "      <td>0</td>\n",
              "    </tr>\n",
              "    <tr>\n",
              "      <th>2</th>\n",
              "      <td>8.099124</td>\n",
              "      <td>224.236259</td>\n",
              "      <td>19909.541732</td>\n",
              "      <td>9.275884</td>\n",
              "      <td>NaN</td>\n",
              "      <td>418.606213</td>\n",
              "      <td>16.868637</td>\n",
              "      <td>66.420093</td>\n",
              "      <td>3.055934</td>\n",
              "      <td>0</td>\n",
              "    </tr>\n",
              "    <tr>\n",
              "      <th>11</th>\n",
              "      <td>7.974522</td>\n",
              "      <td>218.693300</td>\n",
              "      <td>18767.656682</td>\n",
              "      <td>8.110385</td>\n",
              "      <td>NaN</td>\n",
              "      <td>364.098230</td>\n",
              "      <td>14.525746</td>\n",
              "      <td>76.485911</td>\n",
              "      <td>4.011718</td>\n",
              "      <td>0</td>\n",
              "    </tr>\n",
              "    <tr>\n",
              "      <th>14</th>\n",
              "      <td>7.496232</td>\n",
              "      <td>205.344982</td>\n",
              "      <td>28388.004887</td>\n",
              "      <td>5.072558</td>\n",
              "      <td>NaN</td>\n",
              "      <td>444.645352</td>\n",
              "      <td>13.228311</td>\n",
              "      <td>70.300213</td>\n",
              "      <td>4.777382</td>\n",
              "      <td>0</td>\n",
              "    </tr>\n",
              "    <tr>\n",
              "      <th>16</th>\n",
              "      <td>7.051786</td>\n",
              "      <td>211.049406</td>\n",
              "      <td>30980.600787</td>\n",
              "      <td>10.094796</td>\n",
              "      <td>NaN</td>\n",
              "      <td>315.141267</td>\n",
              "      <td>20.397022</td>\n",
              "      <td>56.651604</td>\n",
              "      <td>4.268429</td>\n",
              "      <td>0</td>\n",
              "    </tr>\n",
              "    <tr>\n",
              "      <th>...</th>\n",
              "      <td>...</td>\n",
              "      <td>...</td>\n",
              "      <td>...</td>\n",
              "      <td>...</td>\n",
              "      <td>...</td>\n",
              "      <td>...</td>\n",
              "      <td>...</td>\n",
              "      <td>...</td>\n",
              "      <td>...</td>\n",
              "      <td>...</td>\n",
              "    </tr>\n",
              "    <tr>\n",
              "      <th>3266</th>\n",
              "      <td>8.372910</td>\n",
              "      <td>169.087052</td>\n",
              "      <td>14622.745494</td>\n",
              "      <td>7.547984</td>\n",
              "      <td>NaN</td>\n",
              "      <td>464.525552</td>\n",
              "      <td>11.083027</td>\n",
              "      <td>38.435151</td>\n",
              "      <td>4.906358</td>\n",
              "      <td>1</td>\n",
              "    </tr>\n",
              "    <tr>\n",
              "      <th>3272</th>\n",
              "      <td>7.808856</td>\n",
              "      <td>193.553212</td>\n",
              "      <td>17329.802160</td>\n",
              "      <td>8.061362</td>\n",
              "      <td>NaN</td>\n",
              "      <td>392.449580</td>\n",
              "      <td>19.903225</td>\n",
              "      <td>NaN</td>\n",
              "      <td>2.798243</td>\n",
              "      <td>1</td>\n",
              "    </tr>\n",
              "    <tr>\n",
              "      <th>3273</th>\n",
              "      <td>9.419510</td>\n",
              "      <td>175.762646</td>\n",
              "      <td>33155.578218</td>\n",
              "      <td>7.350233</td>\n",
              "      <td>NaN</td>\n",
              "      <td>432.044783</td>\n",
              "      <td>11.039070</td>\n",
              "      <td>69.845400</td>\n",
              "      <td>3.298875</td>\n",
              "      <td>1</td>\n",
              "    </tr>\n",
              "    <tr>\n",
              "      <th>3274</th>\n",
              "      <td>5.126763</td>\n",
              "      <td>230.603758</td>\n",
              "      <td>11983.869376</td>\n",
              "      <td>6.303357</td>\n",
              "      <td>NaN</td>\n",
              "      <td>402.883113</td>\n",
              "      <td>11.168946</td>\n",
              "      <td>77.488213</td>\n",
              "      <td>4.708658</td>\n",
              "      <td>1</td>\n",
              "    </tr>\n",
              "    <tr>\n",
              "      <th>3275</th>\n",
              "      <td>7.874671</td>\n",
              "      <td>195.102299</td>\n",
              "      <td>17404.177061</td>\n",
              "      <td>7.509306</td>\n",
              "      <td>NaN</td>\n",
              "      <td>327.459760</td>\n",
              "      <td>16.140368</td>\n",
              "      <td>78.698446</td>\n",
              "      <td>2.309149</td>\n",
              "      <td>1</td>\n",
              "    </tr>\n",
              "  </tbody>\n",
              "</table>\n",
              "<p>781 rows × 10 columns</p>\n",
              "</div>"
            ],
            "text/plain": [
              "            ph    hardness  ...  turbidity  potability\n",
              "1     3.716080  129.422921  ...   4.500656           0\n",
              "2     8.099124  224.236259  ...   3.055934           0\n",
              "11    7.974522  218.693300  ...   4.011718           0\n",
              "14    7.496232  205.344982  ...   4.777382           0\n",
              "16    7.051786  211.049406  ...   4.268429           0\n",
              "...        ...         ...  ...        ...         ...\n",
              "3266  8.372910  169.087052  ...   4.906358           1\n",
              "3272  7.808856  193.553212  ...   2.798243           1\n",
              "3273  9.419510  175.762646  ...   3.298875           1\n",
              "3274  5.126763  230.603758  ...   4.708658           1\n",
              "3275  7.874671  195.102299  ...   2.309149           1\n",
              "\n",
              "[781 rows x 10 columns]"
            ]
          },
          "metadata": {},
          "execution_count": 35
        }
      ]
    },
    {
      "cell_type": "code",
      "metadata": {
        "colab": {
          "base_uri": "https://localhost:8080/",
          "height": 424
        },
        "id": "zQB10yYs9tma",
        "outputId": "5fe3c4c5-54e1-436d-ad6b-8e82c56c139c"
      },
      "source": [
        "df[df['trihalomethanes'].isnull()]"
      ],
      "execution_count": 36,
      "outputs": [
        {
          "output_type": "execute_result",
          "data": {
            "text/html": [
              "<div>\n",
              "<style scoped>\n",
              "    .dataframe tbody tr th:only-of-type {\n",
              "        vertical-align: middle;\n",
              "    }\n",
              "\n",
              "    .dataframe tbody tr th {\n",
              "        vertical-align: top;\n",
              "    }\n",
              "\n",
              "    .dataframe thead th {\n",
              "        text-align: right;\n",
              "    }\n",
              "</style>\n",
              "<table border=\"1\" class=\"dataframe\">\n",
              "  <thead>\n",
              "    <tr style=\"text-align: right;\">\n",
              "      <th></th>\n",
              "      <th>ph</th>\n",
              "      <th>hardness</th>\n",
              "      <th>solids</th>\n",
              "      <th>chloramines</th>\n",
              "      <th>sulfate</th>\n",
              "      <th>conductivity</th>\n",
              "      <th>organic_carbon</th>\n",
              "      <th>trihalomethanes</th>\n",
              "      <th>turbidity</th>\n",
              "      <th>potability</th>\n",
              "    </tr>\n",
              "  </thead>\n",
              "  <tbody>\n",
              "    <tr>\n",
              "      <th>62</th>\n",
              "      <td>NaN</td>\n",
              "      <td>229.485694</td>\n",
              "      <td>35729.692709</td>\n",
              "      <td>8.810843</td>\n",
              "      <td>384.943779</td>\n",
              "      <td>296.397547</td>\n",
              "      <td>16.927092</td>\n",
              "      <td>NaN</td>\n",
              "      <td>3.855602</td>\n",
              "      <td>0</td>\n",
              "    </tr>\n",
              "    <tr>\n",
              "      <th>81</th>\n",
              "      <td>5.519126</td>\n",
              "      <td>168.728583</td>\n",
              "      <td>12531.601921</td>\n",
              "      <td>7.730723</td>\n",
              "      <td>NaN</td>\n",
              "      <td>443.570372</td>\n",
              "      <td>18.099078</td>\n",
              "      <td>NaN</td>\n",
              "      <td>3.758996</td>\n",
              "      <td>0</td>\n",
              "    </tr>\n",
              "    <tr>\n",
              "      <th>110</th>\n",
              "      <td>9.286155</td>\n",
              "      <td>222.661551</td>\n",
              "      <td>12311.268366</td>\n",
              "      <td>7.289866</td>\n",
              "      <td>332.239359</td>\n",
              "      <td>353.740100</td>\n",
              "      <td>14.171763</td>\n",
              "      <td>NaN</td>\n",
              "      <td>5.239982</td>\n",
              "      <td>0</td>\n",
              "    </tr>\n",
              "    <tr>\n",
              "      <th>118</th>\n",
              "      <td>7.397413</td>\n",
              "      <td>122.541040</td>\n",
              "      <td>8855.114121</td>\n",
              "      <td>6.888689</td>\n",
              "      <td>241.607532</td>\n",
              "      <td>489.851600</td>\n",
              "      <td>13.365906</td>\n",
              "      <td>NaN</td>\n",
              "      <td>3.149158</td>\n",
              "      <td>0</td>\n",
              "    </tr>\n",
              "    <tr>\n",
              "      <th>119</th>\n",
              "      <td>7.812804</td>\n",
              "      <td>196.583886</td>\n",
              "      <td>42550.841816</td>\n",
              "      <td>7.334648</td>\n",
              "      <td>NaN</td>\n",
              "      <td>442.545775</td>\n",
              "      <td>14.666917</td>\n",
              "      <td>NaN</td>\n",
              "      <td>6.204846</td>\n",
              "      <td>0</td>\n",
              "    </tr>\n",
              "    <tr>\n",
              "      <th>...</th>\n",
              "      <td>...</td>\n",
              "      <td>...</td>\n",
              "      <td>...</td>\n",
              "      <td>...</td>\n",
              "      <td>...</td>\n",
              "      <td>...</td>\n",
              "      <td>...</td>\n",
              "      <td>...</td>\n",
              "      <td>...</td>\n",
              "      <td>...</td>\n",
              "    </tr>\n",
              "    <tr>\n",
              "      <th>3174</th>\n",
              "      <td>6.698154</td>\n",
              "      <td>198.286268</td>\n",
              "      <td>34675.862845</td>\n",
              "      <td>6.263602</td>\n",
              "      <td>360.232834</td>\n",
              "      <td>430.935009</td>\n",
              "      <td>12.176678</td>\n",
              "      <td>NaN</td>\n",
              "      <td>3.758180</td>\n",
              "      <td>1</td>\n",
              "    </tr>\n",
              "    <tr>\n",
              "      <th>3185</th>\n",
              "      <td>6.110022</td>\n",
              "      <td>234.800957</td>\n",
              "      <td>16663.539074</td>\n",
              "      <td>5.984536</td>\n",
              "      <td>348.055211</td>\n",
              "      <td>437.892115</td>\n",
              "      <td>10.059523</td>\n",
              "      <td>NaN</td>\n",
              "      <td>2.817780</td>\n",
              "      <td>1</td>\n",
              "    </tr>\n",
              "    <tr>\n",
              "      <th>3219</th>\n",
              "      <td>6.417716</td>\n",
              "      <td>209.702425</td>\n",
              "      <td>31974.481631</td>\n",
              "      <td>7.263425</td>\n",
              "      <td>321.382124</td>\n",
              "      <td>289.450118</td>\n",
              "      <td>11.369071</td>\n",
              "      <td>NaN</td>\n",
              "      <td>4.210327</td>\n",
              "      <td>1</td>\n",
              "    </tr>\n",
              "    <tr>\n",
              "      <th>3259</th>\n",
              "      <td>9.271355</td>\n",
              "      <td>181.259617</td>\n",
              "      <td>16540.979048</td>\n",
              "      <td>7.022499</td>\n",
              "      <td>309.238865</td>\n",
              "      <td>487.692788</td>\n",
              "      <td>13.228441</td>\n",
              "      <td>NaN</td>\n",
              "      <td>4.333953</td>\n",
              "      <td>1</td>\n",
              "    </tr>\n",
              "    <tr>\n",
              "      <th>3272</th>\n",
              "      <td>7.808856</td>\n",
              "      <td>193.553212</td>\n",
              "      <td>17329.802160</td>\n",
              "      <td>8.061362</td>\n",
              "      <td>NaN</td>\n",
              "      <td>392.449580</td>\n",
              "      <td>19.903225</td>\n",
              "      <td>NaN</td>\n",
              "      <td>2.798243</td>\n",
              "      <td>1</td>\n",
              "    </tr>\n",
              "  </tbody>\n",
              "</table>\n",
              "<p>162 rows × 10 columns</p>\n",
              "</div>"
            ],
            "text/plain": [
              "            ph    hardness  ...  turbidity  potability\n",
              "62         NaN  229.485694  ...   3.855602           0\n",
              "81    5.519126  168.728583  ...   3.758996           0\n",
              "110   9.286155  222.661551  ...   5.239982           0\n",
              "118   7.397413  122.541040  ...   3.149158           0\n",
              "119   7.812804  196.583886  ...   6.204846           0\n",
              "...        ...         ...  ...        ...         ...\n",
              "3174  6.698154  198.286268  ...   3.758180           1\n",
              "3185  6.110022  234.800957  ...   2.817780           1\n",
              "3219  6.417716  209.702425  ...   4.210327           1\n",
              "3259  9.271355  181.259617  ...   4.333953           1\n",
              "3272  7.808856  193.553212  ...   2.798243           1\n",
              "\n",
              "[162 rows x 10 columns]"
            ]
          },
          "metadata": {},
          "execution_count": 36
        }
      ]
    },
    {
      "cell_type": "code",
      "metadata": {
        "id": "8fJJfa6YRIyV"
      },
      "source": [
        "df['ph']=df['ph'].fillna(df.groupby(['potability'])['ph'].transform('mean'))\n",
        "df['sulfate']=df['sulfate'].fillna(df.groupby(['potability'])['sulfate'].transform('mean'))\n",
        "df['trihalomethanes']=df['trihalomethanes'].fillna(df.groupby(['potability'])['trihalomethanes'].transform('mean'))"
      ],
      "execution_count": 37,
      "outputs": []
    },
    {
      "cell_type": "code",
      "metadata": {
        "colab": {
          "base_uri": "https://localhost:8080/"
        },
        "id": "auBP54_yRJN8",
        "outputId": "6fcb47e8-e762-488b-f9e1-9ef8658ef1a3"
      },
      "source": [
        "df.isnull().sum()"
      ],
      "execution_count": 38,
      "outputs": [
        {
          "output_type": "execute_result",
          "data": {
            "text/plain": [
              "ph                 0\n",
              "hardness           0\n",
              "solids             0\n",
              "chloramines        0\n",
              "sulfate            0\n",
              "conductivity       0\n",
              "organic_carbon     0\n",
              "trihalomethanes    0\n",
              "turbidity          0\n",
              "potability         0\n",
              "dtype: int64"
            ]
          },
          "metadata": {},
          "execution_count": 38
        }
      ]
    },
    {
      "cell_type": "code",
      "metadata": {
        "id": "7Hq7bH1UBGo7"
      },
      "source": [
        "sc = StandardScaler()\n",
        "df_sc = sc.fit_transform(df.iloc[:, :-1])\n",
        "df_scaled = pd.DataFrame(df_sc, columns = df.columns[:-1])\n",
        "df_scaled['potability'] = df['potability']"
      ],
      "execution_count": 40,
      "outputs": []
    },
    {
      "cell_type": "code",
      "metadata": {
        "colab": {
          "base_uri": "https://localhost:8080/",
          "height": 206
        },
        "id": "iV_6hOnzBWIS",
        "outputId": "0a95c589-5ebb-4e53-944a-e59c94b410e8"
      },
      "source": [
        "df_scaled.head()"
      ],
      "execution_count": 41,
      "outputs": [
        {
          "output_type": "execute_result",
          "data": {
            "text/html": [
              "<div>\n",
              "<style scoped>\n",
              "    .dataframe tbody tr th:only-of-type {\n",
              "        vertical-align: middle;\n",
              "    }\n",
              "\n",
              "    .dataframe tbody tr th {\n",
              "        vertical-align: top;\n",
              "    }\n",
              "\n",
              "    .dataframe thead th {\n",
              "        text-align: right;\n",
              "    }\n",
              "</style>\n",
              "<table border=\"1\" class=\"dataframe\">\n",
              "  <thead>\n",
              "    <tr style=\"text-align: right;\">\n",
              "      <th></th>\n",
              "      <th>ph</th>\n",
              "      <th>hardness</th>\n",
              "      <th>solids</th>\n",
              "      <th>chloramines</th>\n",
              "      <th>sulfate</th>\n",
              "      <th>conductivity</th>\n",
              "      <th>organic_carbon</th>\n",
              "      <th>trihalomethanes</th>\n",
              "      <th>turbidity</th>\n",
              "      <th>potability</th>\n",
              "    </tr>\n",
              "  </thead>\n",
              "  <tbody>\n",
              "    <tr>\n",
              "      <th>0</th>\n",
              "      <td>0.003078</td>\n",
              "      <td>0.259195</td>\n",
              "      <td>-0.139471</td>\n",
              "      <td>0.112415</td>\n",
              "      <td>0.961017</td>\n",
              "      <td>1.708954</td>\n",
              "      <td>-1.180651</td>\n",
              "      <td>1.306187</td>\n",
              "      <td>-1.286298</td>\n",
              "      <td>0</td>\n",
              "    </tr>\n",
              "    <tr>\n",
              "      <th>1</th>\n",
              "      <td>-2.289378</td>\n",
              "      <td>-2.036414</td>\n",
              "      <td>-0.385987</td>\n",
              "      <td>-0.307694</td>\n",
              "      <td>0.021560</td>\n",
              "      <td>2.062575</td>\n",
              "      <td>0.270597</td>\n",
              "      <td>-0.638440</td>\n",
              "      <td>0.684218</td>\n",
              "      <td>0</td>\n",
              "    </tr>\n",
              "    <tr>\n",
              "      <th>2</th>\n",
              "      <td>0.692826</td>\n",
              "      <td>0.847665</td>\n",
              "      <td>-0.240047</td>\n",
              "      <td>1.360594</td>\n",
              "      <td>0.021560</td>\n",
              "      <td>-0.094032</td>\n",
              "      <td>0.781117</td>\n",
              "      <td>0.001549</td>\n",
              "      <td>-1.167365</td>\n",
              "      <td>0</td>\n",
              "    </tr>\n",
              "    <tr>\n",
              "      <th>3</th>\n",
              "      <td>0.840908</td>\n",
              "      <td>0.547651</td>\n",
              "      <td>0.000493</td>\n",
              "      <td>0.592008</td>\n",
              "      <td>0.639206</td>\n",
              "      <td>-0.778830</td>\n",
              "      <td>1.255134</td>\n",
              "      <td>2.152910</td>\n",
              "      <td>0.848412</td>\n",
              "      <td>0</td>\n",
              "    </tr>\n",
              "    <tr>\n",
              "      <th>4</th>\n",
              "      <td>1.368526</td>\n",
              "      <td>-0.464429</td>\n",
              "      <td>-0.460249</td>\n",
              "      <td>-0.363698</td>\n",
              "      <td>-0.654379</td>\n",
              "      <td>-0.343939</td>\n",
              "      <td>-0.824357</td>\n",
              "      <td>-2.181556</td>\n",
              "      <td>0.138786</td>\n",
              "      <td>0</td>\n",
              "    </tr>\n",
              "  </tbody>\n",
              "</table>\n",
              "</div>"
            ],
            "text/plain": [
              "         ph  hardness    solids  ...  trihalomethanes  turbidity  potability\n",
              "0  0.003078  0.259195 -0.139471  ...         1.306187  -1.286298           0\n",
              "1 -2.289378 -2.036414 -0.385987  ...        -0.638440   0.684218           0\n",
              "2  0.692826  0.847665 -0.240047  ...         0.001549  -1.167365           0\n",
              "3  0.840908  0.547651  0.000493  ...         2.152910   0.848412           0\n",
              "4  1.368526 -0.464429 -0.460249  ...        -2.181556   0.138786           0\n",
              "\n",
              "[5 rows x 10 columns]"
            ]
          },
          "metadata": {},
          "execution_count": 41
        }
      ]
    },
    {
      "cell_type": "code",
      "metadata": {
        "colab": {
          "base_uri": "https://localhost:8080/",
          "height": 685
        },
        "id": "OuqCtsbvDxO2",
        "outputId": "58fbdf73-a550-43a5-d75b-6d71aa659f29"
      },
      "source": [
        "sns.heatmap(df_scaled.corr(),annot=True)"
      ],
      "execution_count": 46,
      "outputs": [
        {
          "output_type": "execute_result",
          "data": {
            "text/plain": [
              "<matplotlib.axes._subplots.AxesSubplot at 0x7fb93c683490>"
            ]
          },
          "metadata": {},
          "execution_count": 46
        },
        {
          "output_type": "display_data",
          "data": {
            "image/png": "[encoded data removed]",
            "text/plain": [
              "<Figure size 720x720 with 2 Axes>"
            ]
          },
          "metadata": {
            "needs_background": "light"
          }
        }
      ]
    },
    {
      "cell_type": "markdown",
      "metadata": {
        "id": "9nPfl0_eFwAo"
      },
      "source": [
        "It is apparent that there is little correlation between features and therefore all will be utilized for the model."
      ]
    },
    {
      "cell_type": "markdown",
      "metadata": {
        "id": "be0_acv3TbP8"
      },
      "source": [
        "# Modeling\n",
        "---"
      ]
    },
    {
      "cell_type": "markdown",
      "metadata": {
        "id": "vxeAXuvjLIXX"
      },
      "source": [
        "## K Nearest Neighbors"
      ]
    },
    {
      "cell_type": "code",
      "metadata": {
        "id": "ySR9Nu7bRJ6z"
      },
      "source": [
        "x = df_scaled.drop(\"potability\", axis=1)\n",
        "y = df_scaled.potability\n",
        "X_train , X_test , y_train , y_test = train_test_split(x , y, test_size=0.2, random_state=68)"
      ],
      "execution_count": 49,
      "outputs": []
    },
    {
      "cell_type": "code",
      "metadata": {
        "colab": {
          "base_uri": "https://localhost:8080/"
        },
        "id": "-fxcUX5vGzic",
        "outputId": "e4c97431-1400-4a7a-97c0-ccef6cdb2b02"
      },
      "source": [
        "for n in range(2,10):\n",
        "  knn = KNeighborsClassifier(n_neighbors=n)\n",
        "  knn.fit(X_train, y_train)\n",
        "  y_pred = knn.predict(X_test)\n",
        "  print(\"Accuracy for \"+str(n)+\" neighbors:\",metrics.accuracy_score(y_test, y_pred))"
      ],
      "execution_count": 52,
      "outputs": [
        {
          "output_type": "stream",
          "name": "stdout",
          "text": [
            "Accuracy for 2: 0.6310975609756098\n",
            "Accuracy for 3: 0.6128048780487805\n",
            "Accuracy for 4: 0.6310975609756098\n",
            "Accuracy for 5: 0.6158536585365854\n",
            "Accuracy for 6: 0.6371951219512195\n",
            "Accuracy for 7: 0.635670731707317\n",
            "Accuracy for 8: 0.6280487804878049\n",
            "Accuracy for 9: 0.6280487804878049\n"
          ]
        }
      ]
    },
    {
      "cell_type": "markdown",
      "metadata": {
        "id": "jutKtSNHLRi7"
      },
      "source": [
        "<br></br>\n",
        "## Decision Trees"
      ]
    },
    {
      "cell_type": "code",
      "metadata": {
        "id": "uHV1wFAPLco0"
      },
      "source": [
        "model = tree.DecisionTreeClassifier(criterion='gini', splitter='best', max_depth=5, class_weight=None, min_samples_leaf=200, random_state=37)\n",
        "clf = model.fit(X_train, y_train)\n",
        "pred_labels_tr = model.predict(X_train)\n",
        "pred_labels_te = model.predict(X_test)"
      ],
      "execution_count": 67,
      "outputs": []
    },
    {
      "cell_type": "code",
      "metadata": {
        "colab": {
          "base_uri": "https://localhost:8080/"
        },
        "id": "dR3TFkYOM-Bo",
        "outputId": "79119810-c2e4-4084-c343-d81572fd1ac2"
      },
      "source": [
        "print('Classes: ', clf.classes_)\n",
        "print('Tree Depth: ', clf.tree_.max_depth)\n",
        "print('Leaves: ', clf.tree_.n_leaves)\n",
        "print('Features: ', clf.n_features_in_)"
      ],
      "execution_count": 71,
      "outputs": [
        {
          "output_type": "stream",
          "name": "stdout",
          "text": [
            "Classes:  [0 1]\n",
            "Tree Depth:  5\n",
            "Leaves:  11\n",
            "Features:  9\n"
          ]
        }
      ]
    },
    {
      "cell_type": "code",
      "metadata": {
        "colab": {
          "base_uri": "https://localhost:8080/",
          "height": 936
        },
        "id": "Cz-CiDxxZjHN",
        "outputId": "2fed5a5d-9ffc-4def-f89d-6fd1801c3a15"
      },
      "source": [
        "tree_data = tree.export_graphviz(clf, out_file=None, \n",
        "                            feature_names=x.columns, \n",
        "                            class_names=[str(list(clf.classes_)[0]), str(list(clf.classes_)[1])],\n",
        "                            filled=True, \n",
        "                            rounded=True, \n",
        "                            ) \n",
        "graph = graphviz.Source(tree_data)\n",
        "graph"
      ],
      "execution_count": 69,
      "outputs": [
        {
          "output_type": "execute_result",
          "data": {
            "text/plain": [
              "<graphviz.files.Source at 0x7fb92f509810>"
            ],
            "image/svg+xml": "<?xml version=\"1.0\" encoding=\"UTF-8\" standalone=\"no\"?>\n<!DOCTYPE svg PUBLIC \"-//W3C//DTD SVG 1.1//EN\"\n \"http://www.w3.org/Graphics/SVG/1.1/DTD/svg11.dtd\">\n<!-- Generated by graphviz version 2.40.1 (20161225.0304)\n -->\n<!-- Title: Tree Pages: 1 -->\n<svg width=\"1025pt\" height=\"671pt\"\n viewBox=\"0.00 0.00 1025.00 671.00\" xmlns=\"http://www.w3.org/2000/svg\" xmlns:xlink=\"http://www.w3.org/1999/xlink\">\n<g id=\"graph0\" class=\"graph\" transform=\"scale(1 1) rotate(0) translate(4 667)\">\n<title>Tree</title>\n<polygon fill=\"#ffffff\" stroke=\"transparent\" points=\"-4,4 -4,-667 1021,-667 1021,4 -4,4\"/>\n<!-- 0 -->\n<g id=\"node1\" class=\"node\">\n<title>0</title>\n<path fill=\"#f6d1b7\" stroke=\"#000000\" d=\"M484.5,-663C484.5,-663 359.5,-663 359.5,-663 353.5,-663 347.5,-657 347.5,-651 347.5,-651 347.5,-592 347.5,-592 347.5,-586 353.5,-580 359.5,-580 359.5,-580 484.5,-580 484.5,-580 490.5,-580 496.5,-586 496.5,-592 496.5,-592 496.5,-651 496.5,-651 496.5,-657 490.5,-663 484.5,-663\"/>\n<text text-anchor=\"middle\" x=\"422\" y=\"-647.8\" font-family=\"Helvetica,sans-Serif\" font-size=\"14.00\" fill=\"#000000\">sulfate &lt;= &#45;0.031</text>\n<text text-anchor=\"middle\" x=\"422\" y=\"-632.8\" font-family=\"Helvetica,sans-Serif\" font-size=\"14.00\" fill=\"#000000\">gini = 0.475</text>\n<text text-anchor=\"middle\" x=\"422\" y=\"-617.8\" font-family=\"Helvetica,sans-Serif\" font-size=\"14.00\" fill=\"#000000\">samples = 2620</text>\n<text text-anchor=\"middle\" x=\"422\" y=\"-602.8\" font-family=\"Helvetica,sans-Serif\" font-size=\"14.00\" fill=\"#000000\">value = [1600, 1020]</text>\n<text text-anchor=\"middle\" x=\"422\" y=\"-587.8\" font-family=\"Helvetica,sans-Serif\" font-size=\"14.00\" fill=\"#000000\">class = 0</text>\n</g>\n<!-- 1 -->\n<g id=\"node2\" class=\"node\">\n<title>1</title>\n<path fill=\"#f0f8fd\" stroke=\"#000000\" d=\"M399,-544C399,-544 291,-544 291,-544 285,-544 279,-538 279,-532 279,-532 279,-473 279,-473 279,-467 285,-461 291,-461 291,-461 399,-461 399,-461 405,-461 411,-467 411,-473 411,-473 411,-532 411,-532 411,-538 405,-544 399,-544\"/>\n<text text-anchor=\"middle\" x=\"345\" y=\"-528.8\" font-family=\"Helvetica,sans-Serif\" font-size=\"14.00\" fill=\"#000000\">sulfate &lt;= &#45;0.035</text>\n<text text-anchor=\"middle\" x=\"345\" y=\"-513.8\" font-family=\"Helvetica,sans-Serif\" font-size=\"14.00\" fill=\"#000000\">gini = 0.499</text>\n<text text-anchor=\"middle\" x=\"345\" y=\"-498.8\" font-family=\"Helvetica,sans-Serif\" font-size=\"14.00\" fill=\"#000000\">samples = 1209</text>\n<text text-anchor=\"middle\" x=\"345\" y=\"-483.8\" font-family=\"Helvetica,sans-Serif\" font-size=\"14.00\" fill=\"#000000\">value = [581, 628]</text>\n<text text-anchor=\"middle\" x=\"345\" y=\"-468.8\" font-family=\"Helvetica,sans-Serif\" font-size=\"14.00\" fill=\"#000000\">class = 1</text>\n</g>\n<!-- 0&#45;&gt;1 -->\n<g id=\"edge1\" class=\"edge\">\n<title>0&#45;&gt;1</title>\n<path fill=\"none\" stroke=\"#000000\" d=\"M395.0691,-579.8796C389.4163,-571.1434 383.3967,-561.8404 377.5634,-552.8253\"/>\n<polygon fill=\"#000000\" stroke=\"#000000\" points=\"380.4169,-550.7924 372.0458,-544.2981 374.5399,-554.5952 380.4169,-550.7924\"/>\n<text text-anchor=\"middle\" x=\"366.8076\" y=\"-565.0431\" font-family=\"Helvetica,sans-Serif\" font-size=\"14.00\" fill=\"#000000\">True</text>\n</g>\n<!-- 10 -->\n<g id=\"node11\" class=\"node\">\n<title>10</title>\n<path fill=\"#efb185\" stroke=\"#000000\" d=\"M558,-544C558,-544 442,-544 442,-544 436,-544 430,-538 430,-532 430,-532 430,-473 430,-473 430,-467 436,-461 442,-461 442,-461 558,-461 558,-461 564,-461 570,-467 570,-473 570,-473 570,-532 570,-532 570,-538 564,-544 558,-544\"/>\n<text text-anchor=\"middle\" x=\"500\" y=\"-528.8\" font-family=\"Helvetica,sans-Serif\" font-size=\"14.00\" fill=\"#000000\">sulfate &lt;= 0.024</text>\n<text text-anchor=\"middle\" x=\"500\" y=\"-513.8\" font-family=\"Helvetica,sans-Serif\" font-size=\"14.00\" fill=\"#000000\">gini = 0.401</text>\n<text text-anchor=\"middle\" x=\"500\" y=\"-498.8\" font-family=\"Helvetica,sans-Serif\" font-size=\"14.00\" fill=\"#000000\">samples = 1411</text>\n<text text-anchor=\"middle\" x=\"500\" y=\"-483.8\" font-family=\"Helvetica,sans-Serif\" font-size=\"14.00\" fill=\"#000000\">value = [1019, 392]</text>\n<text text-anchor=\"middle\" x=\"500\" y=\"-468.8\" font-family=\"Helvetica,sans-Serif\" font-size=\"14.00\" fill=\"#000000\">class = 0</text>\n</g>\n<!-- 0&#45;&gt;10 -->\n<g id=\"edge10\" class=\"edge\">\n<title>0&#45;&gt;10</title>\n<path fill=\"none\" stroke=\"#000000\" d=\"M449.2806,-579.8796C455.0068,-571.1434 461.1046,-561.8404 467.0137,-552.8253\"/>\n<polygon fill=\"#000000\" stroke=\"#000000\" points=\"470.0482,-554.5803 472.6029,-544.2981 464.1937,-550.7429 470.0482,-554.5803\"/>\n<text text-anchor=\"middle\" x=\"477.6968\" y=\"-565.0736\" font-family=\"Helvetica,sans-Serif\" font-size=\"14.00\" fill=\"#000000\">False</text>\n</g>\n<!-- 2 -->\n<g id=\"node3\" class=\"node\">\n<title>2</title>\n<path fill=\"#f7d8c2\" stroke=\"#000000\" d=\"M257,-425C257,-425 149,-425 149,-425 143,-425 137,-419 137,-413 137,-413 137,-354 137,-354 137,-348 143,-342 149,-342 149,-342 257,-342 257,-342 263,-342 269,-348 269,-354 269,-354 269,-413 269,-413 269,-419 263,-425 257,-425\"/>\n<text text-anchor=\"middle\" x=\"203\" y=\"-409.8\" font-family=\"Helvetica,sans-Serif\" font-size=\"14.00\" fill=\"#000000\">ph &lt;= &#45;0.564</text>\n<text text-anchor=\"middle\" x=\"203\" y=\"-394.8\" font-family=\"Helvetica,sans-Serif\" font-size=\"14.00\" fill=\"#000000\">gini = 0.484</text>\n<text text-anchor=\"middle\" x=\"203\" y=\"-379.8\" font-family=\"Helvetica,sans-Serif\" font-size=\"14.00\" fill=\"#000000\">samples = 984</text>\n<text text-anchor=\"middle\" x=\"203\" y=\"-364.8\" font-family=\"Helvetica,sans-Serif\" font-size=\"14.00\" fill=\"#000000\">value = [581, 403]</text>\n<text text-anchor=\"middle\" x=\"203\" y=\"-349.8\" font-family=\"Helvetica,sans-Serif\" font-size=\"14.00\" fill=\"#000000\">class = 0</text>\n</g>\n<!-- 1&#45;&gt;2 -->\n<g id=\"edge2\" class=\"edge\">\n<title>1&#45;&gt;2</title>\n<path fill=\"none\" stroke=\"#000000\" d=\"M295.3353,-460.8796C284.1584,-451.513 272.2038,-441.4948 260.7288,-431.8784\"/>\n<polygon fill=\"#000000\" stroke=\"#000000\" points=\"262.7893,-429.0386 252.8767,-425.2981 258.2931,-434.4037 262.7893,-429.0386\"/>\n</g>\n<!-- 9 -->\n<g id=\"node10\" class=\"node\">\n<title>9</title>\n<path fill=\"#399de5\" stroke=\"#000000\" d=\"M391,-417.5C391,-417.5 299,-417.5 299,-417.5 293,-417.5 287,-411.5 287,-405.5 287,-405.5 287,-361.5 287,-361.5 287,-355.5 293,-349.5 299,-349.5 299,-349.5 391,-349.5 391,-349.5 397,-349.5 403,-355.5 403,-361.5 403,-361.5 403,-405.5 403,-405.5 403,-411.5 397,-417.5 391,-417.5\"/>\n<text text-anchor=\"middle\" x=\"345\" y=\"-402.3\" font-family=\"Helvetica,sans-Serif\" font-size=\"14.00\" fill=\"#000000\">gini = 0.0</text>\n<text text-anchor=\"middle\" x=\"345\" y=\"-387.3\" font-family=\"Helvetica,sans-Serif\" font-size=\"14.00\" fill=\"#000000\">samples = 225</text>\n<text text-anchor=\"middle\" x=\"345\" y=\"-372.3\" font-family=\"Helvetica,sans-Serif\" font-size=\"14.00\" fill=\"#000000\">value = [0, 225]</text>\n<text text-anchor=\"middle\" x=\"345\" y=\"-357.3\" font-family=\"Helvetica,sans-Serif\" font-size=\"14.00\" fill=\"#000000\">class = 1</text>\n</g>\n<!-- 1&#45;&gt;9 -->\n<g id=\"edge9\" class=\"edge\">\n<title>1&#45;&gt;9</title>\n<path fill=\"none\" stroke=\"#000000\" d=\"M345,-460.8796C345,-450.2134 345,-438.7021 345,-427.9015\"/>\n<polygon fill=\"#000000\" stroke=\"#000000\" points=\"348.5001,-427.8149 345,-417.8149 341.5001,-427.815 348.5001,-427.8149\"/>\n</g>\n<!-- 3 -->\n<g id=\"node4\" class=\"node\">\n<title>3</title>\n<path fill=\"#eca471\" stroke=\"#000000\" d=\"M112,-298.5C112,-298.5 12,-298.5 12,-298.5 6,-298.5 0,-292.5 0,-286.5 0,-286.5 0,-242.5 0,-242.5 0,-236.5 6,-230.5 12,-230.5 12,-230.5 112,-230.5 112,-230.5 118,-230.5 124,-236.5 124,-242.5 124,-242.5 124,-286.5 124,-286.5 124,-292.5 118,-298.5 112,-298.5\"/>\n<text text-anchor=\"middle\" x=\"62\" y=\"-283.3\" font-family=\"Helvetica,sans-Serif\" font-size=\"14.00\" fill=\"#000000\">gini = 0.343</text>\n<text text-anchor=\"middle\" x=\"62\" y=\"-268.3\" font-family=\"Helvetica,sans-Serif\" font-size=\"14.00\" fill=\"#000000\">samples = 264</text>\n<text text-anchor=\"middle\" x=\"62\" y=\"-253.3\" font-family=\"Helvetica,sans-Serif\" font-size=\"14.00\" fill=\"#000000\">value = [206, 58]</text>\n<text text-anchor=\"middle\" x=\"62\" y=\"-238.3\" font-family=\"Helvetica,sans-Serif\" font-size=\"14.00\" fill=\"#000000\">class = 0</text>\n</g>\n<!-- 2&#45;&gt;3 -->\n<g id=\"edge3\" class=\"edge\">\n<title>2&#45;&gt;3</title>\n<path fill=\"none\" stroke=\"#000000\" d=\"M153.685,-341.8796C139.744,-330.1138 124.5846,-317.3197 110.6812,-305.5855\"/>\n<polygon fill=\"#000000\" stroke=\"#000000\" points=\"112.5584,-302.5899 102.6589,-298.8149 108.0436,-307.9394 112.5584,-302.5899\"/>\n</g>\n<!-- 4 -->\n<g id=\"node5\" class=\"node\">\n<title>4</title>\n<path fill=\"#fdf5ef\" stroke=\"#000000\" d=\"M262,-306C262,-306 154,-306 154,-306 148,-306 142,-300 142,-294 142,-294 142,-235 142,-235 142,-229 148,-223 154,-223 154,-223 262,-223 262,-223 268,-223 274,-229 274,-235 274,-235 274,-294 274,-294 274,-300 268,-306 262,-306\"/>\n<text text-anchor=\"middle\" x=\"208\" y=\"-290.8\" font-family=\"Helvetica,sans-Serif\" font-size=\"14.00\" fill=\"#000000\">solids &lt;= 0.566</text>\n<text text-anchor=\"middle\" x=\"208\" y=\"-275.8\" font-family=\"Helvetica,sans-Serif\" font-size=\"14.00\" fill=\"#000000\">gini = 0.499</text>\n<text text-anchor=\"middle\" x=\"208\" y=\"-260.8\" font-family=\"Helvetica,sans-Serif\" font-size=\"14.00\" fill=\"#000000\">samples = 720</text>\n<text text-anchor=\"middle\" x=\"208\" y=\"-245.8\" font-family=\"Helvetica,sans-Serif\" font-size=\"14.00\" fill=\"#000000\">value = [375, 345]</text>\n<text text-anchor=\"middle\" x=\"208\" y=\"-230.8\" font-family=\"Helvetica,sans-Serif\" font-size=\"14.00\" fill=\"#000000\">class = 0</text>\n</g>\n<!-- 2&#45;&gt;4 -->\n<g id=\"edge4\" class=\"edge\">\n<title>2&#45;&gt;4</title>\n<path fill=\"none\" stroke=\"#000000\" d=\"M204.7488,-341.8796C205.0931,-333.6838 205.4584,-324.9891 205.8151,-316.5013\"/>\n<polygon fill=\"#000000\" stroke=\"#000000\" points=\"209.3208,-316.4362 206.2438,-306.2981 202.327,-316.1423 209.3208,-316.4362\"/>\n</g>\n<!-- 5 -->\n<g id=\"node6\" class=\"node\">\n<title>5</title>\n<path fill=\"#f7d9c3\" stroke=\"#000000\" d=\"M216,-187C216,-187 84,-187 84,-187 78,-187 72,-181 72,-175 72,-175 72,-116 72,-116 72,-110 78,-104 84,-104 84,-104 216,-104 216,-104 222,-104 228,-110 228,-116 228,-116 228,-175 228,-175 228,-181 222,-187 216,-187\"/>\n<text text-anchor=\"middle\" x=\"150\" y=\"-171.8\" font-family=\"Helvetica,sans-Serif\" font-size=\"14.00\" fill=\"#000000\">chloramines &lt;= 0.112</text>\n<text text-anchor=\"middle\" x=\"150\" y=\"-156.8\" font-family=\"Helvetica,sans-Serif\" font-size=\"14.00\" fill=\"#000000\">gini = 0.484</text>\n<text text-anchor=\"middle\" x=\"150\" y=\"-141.8\" font-family=\"Helvetica,sans-Serif\" font-size=\"14.00\" fill=\"#000000\">samples = 500</text>\n<text text-anchor=\"middle\" x=\"150\" y=\"-126.8\" font-family=\"Helvetica,sans-Serif\" font-size=\"14.00\" fill=\"#000000\">value = [295, 205]</text>\n<text text-anchor=\"middle\" x=\"150\" y=\"-111.8\" font-family=\"Helvetica,sans-Serif\" font-size=\"14.00\" fill=\"#000000\">class = 0</text>\n</g>\n<!-- 4&#45;&gt;5 -->\n<g id=\"edge5\" class=\"edge\">\n<title>4&#45;&gt;5</title>\n<path fill=\"none\" stroke=\"#000000\" d=\"M187.7144,-222.8796C183.5443,-214.3236 179.1091,-205.2238 174.8003,-196.3833\"/>\n<polygon fill=\"#000000\" stroke=\"#000000\" points=\"177.8997,-194.7538 170.3722,-187.2981 171.6073,-197.8207 177.8997,-194.7538\"/>\n</g>\n<!-- 8 -->\n<g id=\"node9\" class=\"node\">\n<title>8</title>\n<path fill=\"#aad5f4\" stroke=\"#000000\" d=\"M358,-179.5C358,-179.5 258,-179.5 258,-179.5 252,-179.5 246,-173.5 246,-167.5 246,-167.5 246,-123.5 246,-123.5 246,-117.5 252,-111.5 258,-111.5 258,-111.5 358,-111.5 358,-111.5 364,-111.5 370,-117.5 370,-123.5 370,-123.5 370,-167.5 370,-167.5 370,-173.5 364,-179.5 358,-179.5\"/>\n<text text-anchor=\"middle\" x=\"308\" y=\"-164.3\" font-family=\"Helvetica,sans-Serif\" font-size=\"14.00\" fill=\"#000000\">gini = 0.463</text>\n<text text-anchor=\"middle\" x=\"308\" y=\"-149.3\" font-family=\"Helvetica,sans-Serif\" font-size=\"14.00\" fill=\"#000000\">samples = 220</text>\n<text text-anchor=\"middle\" x=\"308\" y=\"-134.3\" font-family=\"Helvetica,sans-Serif\" font-size=\"14.00\" fill=\"#000000\">value = [80, 140]</text>\n<text text-anchor=\"middle\" x=\"308\" y=\"-119.3\" font-family=\"Helvetica,sans-Serif\" font-size=\"14.00\" fill=\"#000000\">class = 1</text>\n</g>\n<!-- 4&#45;&gt;8 -->\n<g id=\"edge8\" class=\"edge\">\n<title>4&#45;&gt;8</title>\n<path fill=\"none\" stroke=\"#000000\" d=\"M242.9751,-222.8796C252.5852,-211.4436 263.0115,-199.0363 272.6429,-187.575\"/>\n<polygon fill=\"#000000\" stroke=\"#000000\" points=\"275.41,-189.7225 279.1639,-179.8149 270.0509,-185.219 275.41,-189.7225\"/>\n</g>\n<!-- 6 -->\n<g id=\"node7\" class=\"node\">\n<title>6</title>\n<path fill=\"#f4c8a9\" stroke=\"#000000\" d=\"M131,-68C131,-68 23,-68 23,-68 17,-68 11,-62 11,-56 11,-56 11,-12 11,-12 11,-6 17,0 23,0 23,0 131,0 131,0 137,0 143,-6 143,-12 143,-12 143,-56 143,-56 143,-62 137,-68 131,-68\"/>\n<text text-anchor=\"middle\" x=\"77\" y=\"-52.8\" font-family=\"Helvetica,sans-Serif\" font-size=\"14.00\" fill=\"#000000\">gini = 0.461</text>\n<text text-anchor=\"middle\" x=\"77\" y=\"-37.8\" font-family=\"Helvetica,sans-Serif\" font-size=\"14.00\" fill=\"#000000\">samples = 299</text>\n<text text-anchor=\"middle\" x=\"77\" y=\"-22.8\" font-family=\"Helvetica,sans-Serif\" font-size=\"14.00\" fill=\"#000000\">value = [191, 108]</text>\n<text text-anchor=\"middle\" x=\"77\" y=\"-7.8\" font-family=\"Helvetica,sans-Serif\" font-size=\"14.00\" fill=\"#000000\">class = 0</text>\n</g>\n<!-- 5&#45;&gt;6 -->\n<g id=\"edge6\" class=\"edge\">\n<title>5&#45;&gt;6</title>\n<path fill=\"none\" stroke=\"#000000\" d=\"M122.8175,-103.9815C116.9808,-95.0666 110.8034,-85.6313 104.9386,-76.6734\"/>\n<polygon fill=\"#000000\" stroke=\"#000000\" points=\"107.8386,-74.7129 99.4327,-68.2637 101.9821,-78.5472 107.8386,-74.7129\"/>\n</g>\n<!-- 7 -->\n<g id=\"node8\" class=\"node\">\n<title>7</title>\n<path fill=\"#fdf7f2\" stroke=\"#000000\" d=\"M273,-68C273,-68 173,-68 173,-68 167,-68 161,-62 161,-56 161,-56 161,-12 161,-12 161,-6 167,0 173,0 173,0 273,0 273,0 279,0 285,-6 285,-12 285,-12 285,-56 285,-56 285,-62 279,-68 273,-68\"/>\n<text text-anchor=\"middle\" x=\"223\" y=\"-52.8\" font-family=\"Helvetica,sans-Serif\" font-size=\"14.00\" fill=\"#000000\">gini = 0.499</text>\n<text text-anchor=\"middle\" x=\"223\" y=\"-37.8\" font-family=\"Helvetica,sans-Serif\" font-size=\"14.00\" fill=\"#000000\">samples = 201</text>\n<text text-anchor=\"middle\" x=\"223\" y=\"-22.8\" font-family=\"Helvetica,sans-Serif\" font-size=\"14.00\" fill=\"#000000\">value = [104, 97]</text>\n<text text-anchor=\"middle\" x=\"223\" y=\"-7.8\" font-family=\"Helvetica,sans-Serif\" font-size=\"14.00\" fill=\"#000000\">class = 0</text>\n</g>\n<!-- 5&#45;&gt;7 -->\n<g id=\"edge7\" class=\"edge\">\n<title>5&#45;&gt;7</title>\n<path fill=\"none\" stroke=\"#000000\" d=\"M177.1825,-103.9815C183.0192,-95.0666 189.1966,-85.6313 195.0614,-76.6734\"/>\n<polygon fill=\"#000000\" stroke=\"#000000\" points=\"198.0179,-78.5472 200.5673,-68.2637 192.1614,-74.7129 198.0179,-78.5472\"/>\n</g>\n<!-- 11 -->\n<g id=\"node12\" class=\"node\">\n<title>11</title>\n<path fill=\"#e6853f\" stroke=\"#000000\" d=\"M567,-425C567,-425 433,-425 433,-425 427,-425 421,-419 421,-413 421,-413 421,-354 421,-354 421,-348 427,-342 433,-342 433,-342 567,-342 567,-342 573,-342 579,-348 579,-354 579,-354 579,-413 579,-413 579,-419 573,-425 567,-425\"/>\n<text text-anchor=\"middle\" x=\"500\" y=\"-409.8\" font-family=\"Helvetica,sans-Serif\" font-size=\"14.00\" fill=\"#000000\">conductivity &lt;= &#45;0.004</text>\n<text text-anchor=\"middle\" x=\"500\" y=\"-394.8\" font-family=\"Helvetica,sans-Serif\" font-size=\"14.00\" fill=\"#000000\">gini = 0.053</text>\n<text text-anchor=\"middle\" x=\"500\" y=\"-379.8\" font-family=\"Helvetica,sans-Serif\" font-size=\"14.00\" fill=\"#000000\">samples = 443</text>\n<text text-anchor=\"middle\" x=\"500\" y=\"-364.8\" font-family=\"Helvetica,sans-Serif\" font-size=\"14.00\" fill=\"#000000\">value = [431, 12]</text>\n<text text-anchor=\"middle\" x=\"500\" y=\"-349.8\" font-family=\"Helvetica,sans-Serif\" font-size=\"14.00\" fill=\"#000000\">class = 0</text>\n</g>\n<!-- 10&#45;&gt;11 -->\n<g id=\"edge11\" class=\"edge\">\n<title>10&#45;&gt;11</title>\n<path fill=\"none\" stroke=\"#000000\" d=\"M500,-460.8796C500,-452.6838 500,-443.9891 500,-435.5013\"/>\n<polygon fill=\"#000000\" stroke=\"#000000\" points=\"503.5001,-435.298 500,-425.2981 496.5001,-435.2981 503.5001,-435.298\"/>\n</g>\n<!-- 14 -->\n<g id=\"node15\" class=\"node\">\n<title>14</title>\n<path fill=\"#f6d2b9\" stroke=\"#000000\" d=\"M717,-425C717,-425 609,-425 609,-425 603,-425 597,-419 597,-413 597,-413 597,-354 597,-354 597,-348 603,-342 609,-342 609,-342 717,-342 717,-342 723,-342 729,-348 729,-354 729,-354 729,-413 729,-413 729,-419 723,-425 717,-425\"/>\n<text text-anchor=\"middle\" x=\"663\" y=\"-409.8\" font-family=\"Helvetica,sans-Serif\" font-size=\"14.00\" fill=\"#000000\">ph &lt;= 0.002</text>\n<text text-anchor=\"middle\" x=\"663\" y=\"-394.8\" font-family=\"Helvetica,sans-Serif\" font-size=\"14.00\" fill=\"#000000\">gini = 0.477</text>\n<text text-anchor=\"middle\" x=\"663\" y=\"-379.8\" font-family=\"Helvetica,sans-Serif\" font-size=\"14.00\" fill=\"#000000\">samples = 968</text>\n<text text-anchor=\"middle\" x=\"663\" y=\"-364.8\" font-family=\"Helvetica,sans-Serif\" font-size=\"14.00\" fill=\"#000000\">value = [588, 380]</text>\n<text text-anchor=\"middle\" x=\"663\" y=\"-349.8\" font-family=\"Helvetica,sans-Serif\" font-size=\"14.00\" fill=\"#000000\">class = 0</text>\n</g>\n<!-- 10&#45;&gt;14 -->\n<g id=\"edge14\" class=\"edge\">\n<title>10&#45;&gt;14</title>\n<path fill=\"none\" stroke=\"#000000\" d=\"M557.0095,-460.8796C570.1621,-451.2774 584.2528,-440.9903 597.7268,-431.1534\"/>\n<polygon fill=\"#000000\" stroke=\"#000000\" points=\"600.0098,-433.8202 606.0227,-425.0969 595.8823,-428.1666 600.0098,-433.8202\"/>\n</g>\n<!-- 12 -->\n<g id=\"node13\" class=\"node\">\n<title>12</title>\n<path fill=\"#e68742\" stroke=\"#000000\" d=\"M421,-298.5C421,-298.5 321,-298.5 321,-298.5 315,-298.5 309,-292.5 309,-286.5 309,-286.5 309,-242.5 309,-242.5 309,-236.5 315,-230.5 321,-230.5 321,-230.5 421,-230.5 421,-230.5 427,-230.5 433,-236.5 433,-242.5 433,-242.5 433,-286.5 433,-286.5 433,-292.5 427,-298.5 421,-298.5\"/>\n<text text-anchor=\"middle\" x=\"371\" y=\"-283.3\" font-family=\"Helvetica,sans-Serif\" font-size=\"14.00\" fill=\"#000000\">gini = 0.082</text>\n<text text-anchor=\"middle\" x=\"371\" y=\"-268.3\" font-family=\"Helvetica,sans-Serif\" font-size=\"14.00\" fill=\"#000000\">samples = 232</text>\n<text text-anchor=\"middle\" x=\"371\" y=\"-253.3\" font-family=\"Helvetica,sans-Serif\" font-size=\"14.00\" fill=\"#000000\">value = [222, 10]</text>\n<text text-anchor=\"middle\" x=\"371\" y=\"-238.3\" font-family=\"Helvetica,sans-Serif\" font-size=\"14.00\" fill=\"#000000\">class = 0</text>\n</g>\n<!-- 11&#45;&gt;12 -->\n<g id=\"edge12\" class=\"edge\">\n<title>11&#45;&gt;12</title>\n<path fill=\"none\" stroke=\"#000000\" d=\"M454.8821,-341.8796C442.2467,-330.2237 428.5174,-317.5587 415.895,-305.9148\"/>\n<polygon fill=\"#000000\" stroke=\"#000000\" points=\"417.922,-303.0228 408.1985,-298.8149 413.1756,-308.168 417.922,-303.0228\"/>\n</g>\n<!-- 13 -->\n<g id=\"node14\" class=\"node\">\n<title>13</title>\n<path fill=\"#e5823b\" stroke=\"#000000\" d=\"M555,-298.5C555,-298.5 463,-298.5 463,-298.5 457,-298.5 451,-292.5 451,-286.5 451,-286.5 451,-242.5 451,-242.5 451,-236.5 457,-230.5 463,-230.5 463,-230.5 555,-230.5 555,-230.5 561,-230.5 567,-236.5 567,-242.5 567,-242.5 567,-286.5 567,-286.5 567,-292.5 561,-298.5 555,-298.5\"/>\n<text text-anchor=\"middle\" x=\"509\" y=\"-283.3\" font-family=\"Helvetica,sans-Serif\" font-size=\"14.00\" fill=\"#000000\">gini = 0.019</text>\n<text text-anchor=\"middle\" x=\"509\" y=\"-268.3\" font-family=\"Helvetica,sans-Serif\" font-size=\"14.00\" fill=\"#000000\">samples = 211</text>\n<text text-anchor=\"middle\" x=\"509\" y=\"-253.3\" font-family=\"Helvetica,sans-Serif\" font-size=\"14.00\" fill=\"#000000\">value = [209, 2]</text>\n<text text-anchor=\"middle\" x=\"509\" y=\"-238.3\" font-family=\"Helvetica,sans-Serif\" font-size=\"14.00\" fill=\"#000000\">class = 0</text>\n</g>\n<!-- 11&#45;&gt;13 -->\n<g id=\"edge13\" class=\"edge\">\n<title>11&#45;&gt;13</title>\n<path fill=\"none\" stroke=\"#000000\" d=\"M503.1478,-341.8796C503.9545,-331.2134 504.8251,-319.7021 505.6419,-308.9015\"/>\n<polygon fill=\"#000000\" stroke=\"#000000\" points=\"509.1405,-309.0504 506.4048,-298.8149 502.1605,-308.5225 509.1405,-309.0504\"/>\n</g>\n<!-- 15 -->\n<g id=\"node16\" class=\"node\">\n<title>15</title>\n<path fill=\"#d2e9f9\" stroke=\"#000000\" d=\"M713,-306C713,-306 605,-306 605,-306 599,-306 593,-300 593,-294 593,-294 593,-235 593,-235 593,-229 599,-223 605,-223 605,-223 713,-223 713,-223 719,-223 725,-229 725,-235 725,-235 725,-294 725,-294 725,-300 719,-306 713,-306\"/>\n<text text-anchor=\"middle\" x=\"659\" y=\"-290.8\" font-family=\"Helvetica,sans-Serif\" font-size=\"14.00\" fill=\"#000000\">sulfate &lt;= 0.663</text>\n<text text-anchor=\"middle\" x=\"659\" y=\"-275.8\" font-family=\"Helvetica,sans-Serif\" font-size=\"14.00\" fill=\"#000000\">gini = 0.492</text>\n<text text-anchor=\"middle\" x=\"659\" y=\"-260.8\" font-family=\"Helvetica,sans-Serif\" font-size=\"14.00\" fill=\"#000000\">samples = 466</text>\n<text text-anchor=\"middle\" x=\"659\" y=\"-245.8\" font-family=\"Helvetica,sans-Serif\" font-size=\"14.00\" fill=\"#000000\">value = [203, 263]</text>\n<text text-anchor=\"middle\" x=\"659\" y=\"-230.8\" font-family=\"Helvetica,sans-Serif\" font-size=\"14.00\" fill=\"#000000\">class = 1</text>\n</g>\n<!-- 14&#45;&gt;15 -->\n<g id=\"edge15\" class=\"edge\">\n<title>14&#45;&gt;15</title>\n<path fill=\"none\" stroke=\"#000000\" d=\"M661.601,-341.8796C661.3255,-333.6838 661.0332,-324.9891 660.7479,-316.5013\"/>\n<polygon fill=\"#000000\" stroke=\"#000000\" points=\"664.239,-316.1748 660.405,-306.2981 657.243,-316.41 664.239,-316.1748\"/>\n</g>\n<!-- 18 -->\n<g id=\"node19\" class=\"node\">\n<title>18</title>\n<path fill=\"#eda775\" stroke=\"#000000\" d=\"M879,-306C879,-306 755,-306 755,-306 749,-306 743,-300 743,-294 743,-294 743,-235 743,-235 743,-229 749,-223 755,-223 755,-223 879,-223 879,-223 885,-223 891,-229 891,-235 891,-235 891,-294 891,-294 891,-300 885,-306 879,-306\"/>\n<text text-anchor=\"middle\" x=\"817\" y=\"-290.8\" font-family=\"Helvetica,sans-Serif\" font-size=\"14.00\" fill=\"#000000\">chloramines &lt;= 0.02</text>\n<text text-anchor=\"middle\" x=\"817\" y=\"-275.8\" font-family=\"Helvetica,sans-Serif\" font-size=\"14.00\" fill=\"#000000\">gini = 0.357</text>\n<text text-anchor=\"middle\" x=\"817\" y=\"-260.8\" font-family=\"Helvetica,sans-Serif\" font-size=\"14.00\" fill=\"#000000\">samples = 502</text>\n<text text-anchor=\"middle\" x=\"817\" y=\"-245.8\" font-family=\"Helvetica,sans-Serif\" font-size=\"14.00\" fill=\"#000000\">value = [385, 117]</text>\n<text text-anchor=\"middle\" x=\"817\" y=\"-230.8\" font-family=\"Helvetica,sans-Serif\" font-size=\"14.00\" fill=\"#000000\">class = 0</text>\n</g>\n<!-- 14&#45;&gt;18 -->\n<g id=\"edge18\" class=\"edge\">\n<title>14&#45;&gt;18</title>\n<path fill=\"none\" stroke=\"#000000\" d=\"M716.8617,-341.8796C729.1709,-332.368 742.3497,-322.1843 754.9704,-312.432\"/>\n<polygon fill=\"#000000\" stroke=\"#000000\" points=\"757.3959,-314.9809 763.1687,-306.0969 753.1157,-309.4419 757.3959,-314.9809\"/>\n</g>\n<!-- 16 -->\n<g id=\"node17\" class=\"node\">\n<title>16</title>\n<path fill=\"#fbeadf\" stroke=\"#000000\" d=\"M571,-179.5C571,-179.5 471,-179.5 471,-179.5 465,-179.5 459,-173.5 459,-167.5 459,-167.5 459,-123.5 459,-123.5 459,-117.5 465,-111.5 471,-111.5 471,-111.5 571,-111.5 571,-111.5 577,-111.5 583,-117.5 583,-123.5 583,-123.5 583,-167.5 583,-167.5 583,-173.5 577,-179.5 571,-179.5\"/>\n<text text-anchor=\"middle\" x=\"521\" y=\"-164.3\" font-family=\"Helvetica,sans-Serif\" font-size=\"14.00\" fill=\"#000000\">gini = 0.496</text>\n<text text-anchor=\"middle\" x=\"521\" y=\"-149.3\" font-family=\"Helvetica,sans-Serif\" font-size=\"14.00\" fill=\"#000000\">samples = 202</text>\n<text text-anchor=\"middle\" x=\"521\" y=\"-134.3\" font-family=\"Helvetica,sans-Serif\" font-size=\"14.00\" fill=\"#000000\">value = [110, 92]</text>\n<text text-anchor=\"middle\" x=\"521\" y=\"-119.3\" font-family=\"Helvetica,sans-Serif\" font-size=\"14.00\" fill=\"#000000\">class = 0</text>\n</g>\n<!-- 15&#45;&gt;16 -->\n<g id=\"edge16\" class=\"edge\">\n<title>15&#45;&gt;16</title>\n<path fill=\"none\" stroke=\"#000000\" d=\"M610.7343,-222.8796C597.0899,-211.1138 582.2531,-198.3197 568.6454,-186.5855\"/>\n<polygon fill=\"#000000\" stroke=\"#000000\" points=\"570.6527,-183.6948 560.7938,-179.8149 566.0813,-188.9961 570.6527,-183.6948\"/>\n</g>\n<!-- 17 -->\n<g id=\"node18\" class=\"node\">\n<title>17</title>\n<path fill=\"#a5d2f3\" stroke=\"#000000\" d=\"M713,-179.5C713,-179.5 613,-179.5 613,-179.5 607,-179.5 601,-173.5 601,-167.5 601,-167.5 601,-123.5 601,-123.5 601,-117.5 607,-111.5 613,-111.5 613,-111.5 713,-111.5 713,-111.5 719,-111.5 725,-117.5 725,-123.5 725,-123.5 725,-167.5 725,-167.5 725,-173.5 719,-179.5 713,-179.5\"/>\n<text text-anchor=\"middle\" x=\"663\" y=\"-164.3\" font-family=\"Helvetica,sans-Serif\" font-size=\"14.00\" fill=\"#000000\">gini = 0.456</text>\n<text text-anchor=\"middle\" x=\"663\" y=\"-149.3\" font-family=\"Helvetica,sans-Serif\" font-size=\"14.00\" fill=\"#000000\">samples = 264</text>\n<text text-anchor=\"middle\" x=\"663\" y=\"-134.3\" font-family=\"Helvetica,sans-Serif\" font-size=\"14.00\" fill=\"#000000\">value = [93, 171]</text>\n<text text-anchor=\"middle\" x=\"663\" y=\"-119.3\" font-family=\"Helvetica,sans-Serif\" font-size=\"14.00\" fill=\"#000000\">class = 1</text>\n</g>\n<!-- 15&#45;&gt;17 -->\n<g id=\"edge17\" class=\"edge\">\n<title>15&#45;&gt;17</title>\n<path fill=\"none\" stroke=\"#000000\" d=\"M660.399,-222.8796C660.7575,-212.2134 661.1445,-200.7021 661.5075,-189.9015\"/>\n<polygon fill=\"#000000\" stroke=\"#000000\" points=\"665.0085,-189.9269 661.8466,-179.8149 658.0125,-189.6917 665.0085,-189.9269\"/>\n</g>\n<!-- 19 -->\n<g id=\"node20\" class=\"node\">\n<title>19</title>\n<path fill=\"#ea9a60\" stroke=\"#000000\" d=\"M863,-179.5C863,-179.5 763,-179.5 763,-179.5 757,-179.5 751,-173.5 751,-167.5 751,-167.5 751,-123.5 751,-123.5 751,-117.5 757,-111.5 763,-111.5 763,-111.5 863,-111.5 863,-111.5 869,-111.5 875,-117.5 875,-123.5 875,-123.5 875,-167.5 875,-167.5 875,-173.5 869,-179.5 863,-179.5\"/>\n<text text-anchor=\"middle\" x=\"813\" y=\"-164.3\" font-family=\"Helvetica,sans-Serif\" font-size=\"14.00\" fill=\"#000000\">gini = 0.277</text>\n<text text-anchor=\"middle\" x=\"813\" y=\"-149.3\" font-family=\"Helvetica,sans-Serif\" font-size=\"14.00\" fill=\"#000000\">samples = 253</text>\n<text text-anchor=\"middle\" x=\"813\" y=\"-134.3\" font-family=\"Helvetica,sans-Serif\" font-size=\"14.00\" fill=\"#000000\">value = [211, 42]</text>\n<text text-anchor=\"middle\" x=\"813\" y=\"-119.3\" font-family=\"Helvetica,sans-Serif\" font-size=\"14.00\" fill=\"#000000\">class = 0</text>\n</g>\n<!-- 18&#45;&gt;19 -->\n<g id=\"edge19\" class=\"edge\">\n<title>18&#45;&gt;19</title>\n<path fill=\"none\" stroke=\"#000000\" d=\"M815.601,-222.8796C815.2425,-212.2134 814.8555,-200.7021 814.4925,-189.9015\"/>\n<polygon fill=\"#000000\" stroke=\"#000000\" points=\"817.9875,-189.6917 814.1534,-179.8149 810.9915,-189.9269 817.9875,-189.6917\"/>\n</g>\n<!-- 20 -->\n<g id=\"node21\" class=\"node\">\n<title>20</title>\n<path fill=\"#f0b78e\" stroke=\"#000000\" d=\"M1005,-179.5C1005,-179.5 905,-179.5 905,-179.5 899,-179.5 893,-173.5 893,-167.5 893,-167.5 893,-123.5 893,-123.5 893,-117.5 899,-111.5 905,-111.5 905,-111.5 1005,-111.5 1005,-111.5 1011,-111.5 1017,-117.5 1017,-123.5 1017,-123.5 1017,-167.5 1017,-167.5 1017,-173.5 1011,-179.5 1005,-179.5\"/>\n<text text-anchor=\"middle\" x=\"955\" y=\"-164.3\" font-family=\"Helvetica,sans-Serif\" font-size=\"14.00\" fill=\"#000000\">gini = 0.421</text>\n<text text-anchor=\"middle\" x=\"955\" y=\"-149.3\" font-family=\"Helvetica,sans-Serif\" font-size=\"14.00\" fill=\"#000000\">samples = 249</text>\n<text text-anchor=\"middle\" x=\"955\" y=\"-134.3\" font-family=\"Helvetica,sans-Serif\" font-size=\"14.00\" fill=\"#000000\">value = [174, 75]</text>\n<text text-anchor=\"middle\" x=\"955\" y=\"-119.3\" font-family=\"Helvetica,sans-Serif\" font-size=\"14.00\" fill=\"#000000\">class = 0</text>\n</g>\n<!-- 18&#45;&gt;20 -->\n<g id=\"edge20\" class=\"edge\">\n<title>18&#45;&gt;20</title>\n<path fill=\"none\" stroke=\"#000000\" d=\"M865.2657,-222.8796C878.9101,-211.1138 893.7469,-198.3197 907.3546,-186.5855\"/>\n<polygon fill=\"#000000\" stroke=\"#000000\" points=\"909.9187,-188.9961 915.2062,-179.8149 905.3473,-183.6948 909.9187,-188.9961\"/>\n</g>\n</g>\n</svg>\n"
          },
          "metadata": {},
          "execution_count": 69
        }
      ]
    },
    {
      "cell_type": "code",
      "metadata": {
        "colab": {
          "base_uri": "https://localhost:8080/"
        },
        "id": "gKO3H3gUNRmV",
        "outputId": "39661634-af0b-413e-abab-28264c28cb21"
      },
      "source": [
        "score = model.score(X_test, y_test)\n",
        "print('Accuracy Score: ', score)"
      ],
      "execution_count": 64,
      "outputs": [
        {
          "output_type": "stream",
          "name": "stdout",
          "text": [
            "Accuracy Score:  0.7545731707317073\n"
          ]
        }
      ]
    },
    {
      "cell_type": "markdown",
      "metadata": {
        "id": "ooop6Rr2l5JE"
      },
      "source": [
        "# Conclusion\n",
        "---"
      ]
    },
    {
      "cell_type": "markdown",
      "metadata": {
        "id": "ZKcn4ssOmAtl"
      },
      "source": [
        "My two models, KNN and a Decision Tree, with accuracy scores of ~63% and ~75% respectively yield promising results but the decision tree yielded a slightly higher accuracy."
      ]
    }
  ]
}